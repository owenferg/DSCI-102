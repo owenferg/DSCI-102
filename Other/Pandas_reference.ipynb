{
 "cells": [
  {
   "cell_type": "markdown",
   "metadata": {},
   "source": [
    "# Pandas and numpy reference\n",
    " "
   ]
  },
  {
   "cell_type": "markdown",
   "metadata": {},
   "source": [
    "If you're coming from DSCI 101 or 102, you've been working with very specific data objects (the `datascience` **table**). We've been using these tables for teaching purposes, but the real world of Python for data science uses the **DataFrame**, or **df**, from the `pandas` package. They are, for all intents and purposes, identical to our tables. However, we can apply a wider array of functions and methods to dfs, and we work with them in slightly different ways. Methods we used in DSCI 101 and 102 won't work on dfs. We have made this module to introduce you to this new object and transition your workflow from the `datascience.table` to the `pandas.DataFrame`. "
   ]
  },
  {
   "cell_type": "code",
   "execution_count": 1,
   "metadata": {
    "scrolled": false
   },
   "outputs": [
    {
     "data": {
      "text/plain": [
       "'imports complete'"
      ]
     },
     "execution_count": 1,
     "metadata": {},
     "output_type": "execute_result"
    }
   ],
   "source": [
    "# You're familiar with numpy, but now we need to import pandas as well\n",
    "import pandas as pd\n",
    "import numpy as np\n",
    "\n",
    "# You may need to change the path to connect to the data you want to use ...\n",
    "path = 'https://github.com/oregon-data-science/DSCI101/raw/main/data/'\n",
    "\n",
    "'imports complete'"
   ]
  },
  {
   "cell_type": "markdown",
   "metadata": {},
   "source": [
    "We'll also start using `matplotlib` for plotting instead of the `datascience` .plot and .hist methods. Again, this is a widely used framework in the real world of data science. We have a dedicated module for plotting in `matplotlib` separate from this one. "
   ]
  },
  {
   "cell_type": "code",
   "execution_count": 2,
   "metadata": {},
   "outputs": [],
   "source": [
    "# Load matplotlib \n",
    "%matplotlib inline\n",
    "import matplotlib.pyplot as plt\n",
    "\n",
    "# Apply a generic style to all plots\n",
    "plt.style.use('fivethirtyeight')"
   ]
  },
  {
   "cell_type": "markdown",
   "metadata": {},
   "source": [
    "### Table of Contents\n",
    "\n",
    "1) [Using Numpy](#Section1)\n",
    "\n",
    "2) [Creating and Displaying DataFrames](#Section2)\n",
    "\n",
    "3) [Accessing Values and Subsetting DataFrames](#Section3)\n",
    "\n",
    "4) [Modifying DataFrames](#Section4)\n",
    "\n",
    "5) [Train and Test Splits](#Section5)\n",
    "\n",
    "6) [Quick Reference](#Section6)"
   ]
  },
  {
   "cell_type": "markdown",
   "metadata": {},
   "source": [
    "# 1. Using numpy\n",
    "<a id='Section1'></a>"
   ]
  },
  {
   "cell_type": "markdown",
   "metadata": {},
   "source": [
    "### Creating arrays"
   ]
  },
  {
   "cell_type": "markdown",
   "metadata": {},
   "source": [
    "To create an array, we use `np.array`. Note that this is different from the `make_array` you used in the `datascience` package."
   ]
  },
  {
   "cell_type": "code",
   "execution_count": 3,
   "metadata": {},
   "outputs": [
    {
     "data": {
      "text/plain": [
       "array([1, 2, 6, 7])"
      ]
     },
     "execution_count": 3,
     "metadata": {},
     "output_type": "execute_result"
    }
   ],
   "source": [
    "my_array = np.array([1,2,6,7])\n",
    "my_array"
   ]
  },
  {
   "cell_type": "markdown",
   "metadata": {},
   "source": [
    "We often need to instatiate empty arrays that we wish to fill out iteratively with for-loops. You could do this in `datascience` with `make_array`, but in numpy we use `np.empty(0)`."
   ]
  },
  {
   "cell_type": "code",
   "execution_count": 4,
   "metadata": {},
   "outputs": [
    {
     "data": {
      "text/plain": [
       "array([], dtype=float64)"
      ]
     },
     "execution_count": 4,
     "metadata": {},
     "output_type": "execute_result"
    }
   ],
   "source": [
    "my_array = np.empty(0)\n",
    "my_array"
   ]
  },
  {
   "cell_type": "code",
   "execution_count": 5,
   "metadata": {},
   "outputs": [
    {
     "data": {
      "text/plain": [
       "0"
      ]
     },
     "execution_count": 5,
     "metadata": {},
     "output_type": "execute_result"
    }
   ],
   "source": [
    "# It has a length of 0\n",
    "len(my_array)"
   ]
  },
  {
   "cell_type": "markdown",
   "metadata": {},
   "source": [
    "Use `np.append` to iteratively build an array by looping"
   ]
  },
  {
   "cell_type": "code",
   "execution_count": 6,
   "metadata": {},
   "outputs": [
    {
     "data": {
      "text/plain": [
       "array([0., 1., 2., 3., 4., 5., 6., 7., 8., 9.])"
      ]
     },
     "execution_count": 6,
     "metadata": {},
     "output_type": "execute_result"
    }
   ],
   "source": [
    "for i in np.arange(10):\n",
    "    my_array = np.append(my_array, i)\n",
    "    \n",
    "my_array"
   ]
  },
  {
   "cell_type": "markdown",
   "metadata": {},
   "source": [
    "### Accessing values"
   ]
  },
  {
   "cell_type": "markdown",
   "metadata": {},
   "source": [
    "#### Positional indices\n",
    "\n",
    "To access values in numpy arrays, we use brackets `[]` to subset elements by their positional index. The equivalent process in `datascience` was the `.item()` method. "
   ]
  },
  {
   "cell_type": "code",
   "execution_count": 7,
   "metadata": {},
   "outputs": [
    {
     "data": {
      "text/plain": [
       "2.0"
      ]
     },
     "execution_count": 7,
     "metadata": {},
     "output_type": "execute_result"
    }
   ],
   "source": [
    "my_array[2]"
   ]
  },
  {
   "cell_type": "code",
   "execution_count": 8,
   "metadata": {},
   "outputs": [
    {
     "data": {
      "text/plain": [
       "array([2., 3., 4., 5.])"
      ]
     },
     "execution_count": 8,
     "metadata": {},
     "output_type": "execute_result"
    }
   ],
   "source": [
    "my_array[2:6]"
   ]
  },
  {
   "cell_type": "markdown",
   "metadata": {},
   "source": [
    "#### Random samples"
   ]
  },
  {
   "cell_type": "markdown",
   "metadata": {},
   "source": [
    "The function used here is the same as in `datascience`"
   ]
  },
  {
   "cell_type": "code",
   "execution_count": 9,
   "metadata": {},
   "outputs": [
    {
     "data": {
      "text/plain": [
       "5.0"
      ]
     },
     "execution_count": 9,
     "metadata": {},
     "output_type": "execute_result"
    }
   ],
   "source": [
    "np.random.choice(my_array)"
   ]
  },
  {
   "cell_type": "markdown",
   "metadata": {},
   "source": [
    "#### The percentile function"
   ]
  },
  {
   "cell_type": "markdown",
   "metadata": {},
   "source": [
    "The percentile function is almost identical in numpy, only that the order in which the arguments are taken is switched: **the first argument should be your array, and the second your percentile**. "
   ]
  },
  {
   "cell_type": "code",
   "execution_count": 10,
   "metadata": {},
   "outputs": [
    {
     "data": {
      "text/plain": [
       "0.225"
      ]
     },
     "execution_count": 10,
     "metadata": {},
     "output_type": "execute_result"
    }
   ],
   "source": [
    "np.percentile(my_array, 2.5)"
   ]
  },
  {
   "cell_type": "markdown",
   "metadata": {},
   "source": [
    "# 2) Creating, displaying and summarizing DataFrames\n",
    "<a id='Section2'></a>"
   ]
  },
  {
   "cell_type": "markdown",
   "metadata": {},
   "source": [
    "## Creating and loading DataFrames"
   ]
  },
  {
   "cell_type": "markdown",
   "metadata": {},
   "source": [
    "In Python, we have general data structures called dictionaries. They are objects that have a 'key' (equivalent to a column name is a table) and values associated with each key (equivalent to data in a table column). Let's create a simple dictionary and then show how it can be turned into a 'pandas' DataFrame. "
   ]
  },
  {
   "cell_type": "code",
   "execution_count": 11,
   "metadata": {},
   "outputs": [
    {
     "data": {
      "text/plain": [
       "{'col_1': [3, 2, 1, 0], 'col_2': ['a', 'b', 'c', 'd']}"
      ]
     },
     "execution_count": 11,
     "metadata": {},
     "output_type": "execute_result"
    }
   ],
   "source": [
    "# Create a dictionary\n",
    "data_dict = {\n",
    "    'col_1': [3, 2, 1, 0],\n",
    "    'col_2': ['a', 'b', 'c', 'd']\n",
    "}\n",
    "\n",
    "data_dict"
   ]
  },
  {
   "cell_type": "markdown",
   "metadata": {},
   "source": [
    "Even though a dictionary doesn't look like a table, it can act like one. This type of notation is the basis for most forms of data objects, table or otherwise. Accordingly, we can easily convert dictionaries to a DataFrame with `pd.DataFrame()` or `from_dict()`. \n",
    "\n",
    "Note that the dictionary **needs to be rectangular** for this to work."
   ]
  },
  {
   "cell_type": "code",
   "execution_count": 12,
   "metadata": {},
   "outputs": [
    {
     "data": {
      "text/html": [
       "<div>\n",
       "<style scoped>\n",
       "    .dataframe tbody tr th:only-of-type {\n",
       "        vertical-align: middle;\n",
       "    }\n",
       "\n",
       "    .dataframe tbody tr th {\n",
       "        vertical-align: top;\n",
       "    }\n",
       "\n",
       "    .dataframe thead th {\n",
       "        text-align: right;\n",
       "    }\n",
       "</style>\n",
       "<table border=\"1\" class=\"dataframe\">\n",
       "  <thead>\n",
       "    <tr style=\"text-align: right;\">\n",
       "      <th></th>\n",
       "      <th>col_1</th>\n",
       "      <th>col_2</th>\n",
       "    </tr>\n",
       "  </thead>\n",
       "  <tbody>\n",
       "    <tr>\n",
       "      <th>0</th>\n",
       "      <td>3</td>\n",
       "      <td>a</td>\n",
       "    </tr>\n",
       "    <tr>\n",
       "      <th>1</th>\n",
       "      <td>2</td>\n",
       "      <td>b</td>\n",
       "    </tr>\n",
       "    <tr>\n",
       "      <th>2</th>\n",
       "      <td>1</td>\n",
       "      <td>c</td>\n",
       "    </tr>\n",
       "    <tr>\n",
       "      <th>3</th>\n",
       "      <td>0</td>\n",
       "      <td>d</td>\n",
       "    </tr>\n",
       "  </tbody>\n",
       "</table>\n",
       "</div>"
      ],
      "text/plain": [
       "   col_1 col_2\n",
       "0      3     a\n",
       "1      2     b\n",
       "2      1     c\n",
       "3      0     d"
      ]
     },
     "execution_count": 12,
     "metadata": {},
     "output_type": "execute_result"
    }
   ],
   "source": [
    "# Create a tiny test DataFrame\n",
    "data_df = pd.DataFrame(data_dict)\n",
    "\n",
    "data_df.head()  # The bold numbers on the left are row index values, dictionary keys become table column names"
   ]
  },
  {
   "cell_type": "markdown",
   "metadata": {},
   "source": [
    "### Read a <font color='blue'>.csv file</font> into a pandas <font color='blue'>DataFrame</font>\n",
    "\n",
    "While it's good to know how to create DataFrames manually and there are occasional uses for this skill, you will most commonly load data with Python from external sources. This is functionally identical to `read_table()`. As a reminder, .csv stands for **c**omma **s**eparated **v**alues, and is a very common format for storing tabular data as a file. "
   ]
  },
  {
   "cell_type": "markdown",
   "metadata": {},
   "source": [
    "### <font color='blue'>pd.read_csv(</font><font color='gray'>path_to_file</font><font color='blue'>)</font>"
   ]
  },
  {
   "cell_type": "code",
   "execution_count": 13,
   "metadata": {},
   "outputs": [
    {
     "data": {
      "text/html": [
       "<div>\n",
       "<style scoped>\n",
       "    .dataframe tbody tr th:only-of-type {\n",
       "        vertical-align: middle;\n",
       "    }\n",
       "\n",
       "    .dataframe tbody tr th {\n",
       "        vertical-align: top;\n",
       "    }\n",
       "\n",
       "    .dataframe thead th {\n",
       "        text-align: right;\n",
       "    }\n",
       "</style>\n",
       "<table border=\"1\" class=\"dataframe\">\n",
       "  <thead>\n",
       "    <tr style=\"text-align: right;\">\n",
       "      <th></th>\n",
       "      <th>name</th>\n",
       "      <th>material</th>\n",
       "      <th>city</th>\n",
       "      <th>height</th>\n",
       "      <th>completed</th>\n",
       "    </tr>\n",
       "  </thead>\n",
       "  <tbody>\n",
       "    <tr>\n",
       "      <th>0</th>\n",
       "      <td>One World Trade Center</td>\n",
       "      <td>mixed/composite</td>\n",
       "      <td>New York City</td>\n",
       "      <td>541.299988</td>\n",
       "      <td>2014</td>\n",
       "    </tr>\n",
       "    <tr>\n",
       "      <th>1</th>\n",
       "      <td>Willis Tower</td>\n",
       "      <td>steel</td>\n",
       "      <td>Chicago</td>\n",
       "      <td>442.140015</td>\n",
       "      <td>1974</td>\n",
       "    </tr>\n",
       "    <tr>\n",
       "      <th>2</th>\n",
       "      <td>432 Park Avenue</td>\n",
       "      <td>concrete</td>\n",
       "      <td>New York City</td>\n",
       "      <td>425.500000</td>\n",
       "      <td>2015</td>\n",
       "    </tr>\n",
       "    <tr>\n",
       "      <th>3</th>\n",
       "      <td>Trump International Hotel &amp; Tower</td>\n",
       "      <td>concrete</td>\n",
       "      <td>Chicago</td>\n",
       "      <td>423.220001</td>\n",
       "      <td>2009</td>\n",
       "    </tr>\n",
       "    <tr>\n",
       "      <th>4</th>\n",
       "      <td>Empire State Building</td>\n",
       "      <td>steel</td>\n",
       "      <td>New York City</td>\n",
       "      <td>381.000000</td>\n",
       "      <td>1931</td>\n",
       "    </tr>\n",
       "    <tr>\n",
       "      <th>5</th>\n",
       "      <td>Bank of America Tower</td>\n",
       "      <td>mixed/composite</td>\n",
       "      <td>New York City</td>\n",
       "      <td>365.799988</td>\n",
       "      <td>2009</td>\n",
       "    </tr>\n",
       "    <tr>\n",
       "      <th>6</th>\n",
       "      <td>Stratosphere Tower</td>\n",
       "      <td>concrete</td>\n",
       "      <td>Las Vegas</td>\n",
       "      <td>350.220001</td>\n",
       "      <td>1996</td>\n",
       "    </tr>\n",
       "    <tr>\n",
       "      <th>7</th>\n",
       "      <td>Aon Center</td>\n",
       "      <td>steel</td>\n",
       "      <td>Chicago</td>\n",
       "      <td>346.260010</td>\n",
       "      <td>1973</td>\n",
       "    </tr>\n",
       "    <tr>\n",
       "      <th>8</th>\n",
       "      <td>John Hancock Center</td>\n",
       "      <td>steel</td>\n",
       "      <td>Chicago</td>\n",
       "      <td>343.690002</td>\n",
       "      <td>1969</td>\n",
       "    </tr>\n",
       "  </tbody>\n",
       "</table>\n",
       "</div>"
      ],
      "text/plain": [
       "                                name         material           city  \\\n",
       "0             One World Trade Center  mixed/composite  New York City   \n",
       "1                       Willis Tower            steel        Chicago   \n",
       "2                    432 Park Avenue         concrete  New York City   \n",
       "3  Trump International Hotel & Tower         concrete        Chicago   \n",
       "4              Empire State Building            steel  New York City   \n",
       "5              Bank of America Tower  mixed/composite  New York City   \n",
       "6                 Stratosphere Tower         concrete      Las Vegas   \n",
       "7                         Aon Center            steel        Chicago   \n",
       "8                John Hancock Center            steel        Chicago   \n",
       "\n",
       "       height  completed  \n",
       "0  541.299988       2014  \n",
       "1  442.140015       1974  \n",
       "2  425.500000       2015  \n",
       "3  423.220001       2009  \n",
       "4  381.000000       1931  \n",
       "5  365.799988       2009  \n",
       "6  350.220001       1996  \n",
       "7  346.260010       1973  \n",
       "8  343.690002       1969  "
      ]
     },
     "execution_count": 13,
     "metadata": {},
     "output_type": "execute_result"
    }
   ],
   "source": [
    "# Read a DataFrame (similar to a table) from a .csv file\n",
    "sky_df = pd.read_csv(path + 'skyscrapers_v2.csv')\n",
    "\n",
    "# Display the first 9 rows of data along with column names\n",
    "sky_df.head(9)"
   ]
  },
  {
   "cell_type": "markdown",
   "metadata": {},
   "source": [
    "As you can see, `.head()` is similar to `.show()` from the datascience package. Other tools for getting a quick glance at your data include `.tail()` (shows the last rows of data) and `.sample()` (you know what sample does). "
   ]
  },
  {
   "cell_type": "markdown",
   "metadata": {},
   "source": [
    "## Displaying your DataFrame"
   ]
  },
  {
   "cell_type": "markdown",
   "metadata": {},
   "source": [
    "Most datasets we work with will be far too large to look at the entire thing. The following methods will let us look at small parts of the DataFrame to develop a sense of the shape, structure and properties of our data. "
   ]
  },
  {
   "cell_type": "markdown",
   "metadata": {},
   "source": [
    "### <font color='gray'>df</font><font color='blue'>.head(</font><font color='gray'></font><font color='blue'>)</font> and <font color='gray'>df</font><font color='blue'>.tail(</font><font color='gray'></font><font color='blue'>)</font> Display beginning or end of your DataFrame\n",
    "`\n",
    "df.head(5) # Show 1st 5 rows\n",
    "df.tail(5)  # Show last 5 rows\n",
    "df.sample(n=3) # Show random 3 rows\n",
    "df.sample(frac=0.15 # Show random 0.15 (15%) of rows\n",
    "df.sample(n=4, random_state=311) # show same random 4 rows each time\n",
    "`"
   ]
  },
  {
   "cell_type": "code",
   "execution_count": 14,
   "metadata": {
    "scrolled": true
   },
   "outputs": [
    {
     "data": {
      "text/html": [
       "<div>\n",
       "<style scoped>\n",
       "    .dataframe tbody tr th:only-of-type {\n",
       "        vertical-align: middle;\n",
       "    }\n",
       "\n",
       "    .dataframe tbody tr th {\n",
       "        vertical-align: top;\n",
       "    }\n",
       "\n",
       "    .dataframe thead th {\n",
       "        text-align: right;\n",
       "    }\n",
       "</style>\n",
       "<table border=\"1\" class=\"dataframe\">\n",
       "  <thead>\n",
       "    <tr style=\"text-align: right;\">\n",
       "      <th></th>\n",
       "      <th>name</th>\n",
       "      <th>material</th>\n",
       "      <th>city</th>\n",
       "      <th>height</th>\n",
       "      <th>completed</th>\n",
       "    </tr>\n",
       "  </thead>\n",
       "  <tbody>\n",
       "    <tr>\n",
       "      <th>0</th>\n",
       "      <td>One World Trade Center</td>\n",
       "      <td>mixed/composite</td>\n",
       "      <td>New York City</td>\n",
       "      <td>541.299988</td>\n",
       "      <td>2014</td>\n",
       "    </tr>\n",
       "    <tr>\n",
       "      <th>1</th>\n",
       "      <td>Willis Tower</td>\n",
       "      <td>steel</td>\n",
       "      <td>Chicago</td>\n",
       "      <td>442.140015</td>\n",
       "      <td>1974</td>\n",
       "    </tr>\n",
       "    <tr>\n",
       "      <th>2</th>\n",
       "      <td>432 Park Avenue</td>\n",
       "      <td>concrete</td>\n",
       "      <td>New York City</td>\n",
       "      <td>425.500000</td>\n",
       "      <td>2015</td>\n",
       "    </tr>\n",
       "    <tr>\n",
       "      <th>3</th>\n",
       "      <td>Trump International Hotel &amp; Tower</td>\n",
       "      <td>concrete</td>\n",
       "      <td>Chicago</td>\n",
       "      <td>423.220001</td>\n",
       "      <td>2009</td>\n",
       "    </tr>\n",
       "    <tr>\n",
       "      <th>4</th>\n",
       "      <td>Empire State Building</td>\n",
       "      <td>steel</td>\n",
       "      <td>New York City</td>\n",
       "      <td>381.000000</td>\n",
       "      <td>1931</td>\n",
       "    </tr>\n",
       "  </tbody>\n",
       "</table>\n",
       "</div>"
      ],
      "text/plain": [
       "                                name         material           city  \\\n",
       "0             One World Trade Center  mixed/composite  New York City   \n",
       "1                       Willis Tower            steel        Chicago   \n",
       "2                    432 Park Avenue         concrete  New York City   \n",
       "3  Trump International Hotel & Tower         concrete        Chicago   \n",
       "4              Empire State Building            steel  New York City   \n",
       "\n",
       "       height  completed  \n",
       "0  541.299988       2014  \n",
       "1  442.140015       1974  \n",
       "2  425.500000       2015  \n",
       "3  423.220001       2009  \n",
       "4  381.000000       1931  "
      ]
     },
     "execution_count": 14,
     "metadata": {},
     "output_type": "execute_result"
    }
   ],
   "source": [
    "# Display the first 5 rows of your data\n",
    "sky_df.head(5)"
   ]
  },
  {
   "cell_type": "code",
   "execution_count": 15,
   "metadata": {},
   "outputs": [
    {
     "data": {
      "text/html": [
       "<div>\n",
       "<style scoped>\n",
       "    .dataframe tbody tr th:only-of-type {\n",
       "        vertical-align: middle;\n",
       "    }\n",
       "\n",
       "    .dataframe tbody tr th {\n",
       "        vertical-align: top;\n",
       "    }\n",
       "\n",
       "    .dataframe thead th {\n",
       "        text-align: right;\n",
       "    }\n",
       "</style>\n",
       "<table border=\"1\" class=\"dataframe\">\n",
       "  <thead>\n",
       "    <tr style=\"text-align: right;\">\n",
       "      <th></th>\n",
       "      <th>name</th>\n",
       "      <th>material</th>\n",
       "      <th>city</th>\n",
       "      <th>height</th>\n",
       "      <th>completed</th>\n",
       "    </tr>\n",
       "  </thead>\n",
       "  <tbody>\n",
       "    <tr>\n",
       "      <th>1776</th>\n",
       "      <td>Meridian Plaza I</td>\n",
       "      <td>concrete</td>\n",
       "      <td>Sacramento</td>\n",
       "      <td>46.000000</td>\n",
       "      <td>2003</td>\n",
       "    </tr>\n",
       "    <tr>\n",
       "      <th>1777</th>\n",
       "      <td>Wainwright Building</td>\n",
       "      <td>steel</td>\n",
       "      <td>St. Louis</td>\n",
       "      <td>44.810001</td>\n",
       "      <td>1892</td>\n",
       "    </tr>\n",
       "    <tr>\n",
       "      <th>1778</th>\n",
       "      <td>Hilliard Senior Homes I</td>\n",
       "      <td>concrete</td>\n",
       "      <td>Chicago</td>\n",
       "      <td>44.500000</td>\n",
       "      <td>1966</td>\n",
       "    </tr>\n",
       "    <tr>\n",
       "      <th>1779</th>\n",
       "      <td>Hilliard Senior Homes II</td>\n",
       "      <td>concrete</td>\n",
       "      <td>Chicago</td>\n",
       "      <td>44.500000</td>\n",
       "      <td>1966</td>\n",
       "    </tr>\n",
       "    <tr>\n",
       "      <th>1780</th>\n",
       "      <td>Grange Mutual Insurance Headquarters, South Bu...</td>\n",
       "      <td>steel</td>\n",
       "      <td>Columbus</td>\n",
       "      <td>43.889999</td>\n",
       "      <td>2010</td>\n",
       "    </tr>\n",
       "  </tbody>\n",
       "</table>\n",
       "</div>"
      ],
      "text/plain": [
       "                                                   name  material        city  \\\n",
       "1776                                   Meridian Plaza I  concrete  Sacramento   \n",
       "1777                                Wainwright Building     steel   St. Louis   \n",
       "1778                            Hilliard Senior Homes I  concrete     Chicago   \n",
       "1779                           Hilliard Senior Homes II  concrete     Chicago   \n",
       "1780  Grange Mutual Insurance Headquarters, South Bu...     steel    Columbus   \n",
       "\n",
       "         height  completed  \n",
       "1776  46.000000       2003  \n",
       "1777  44.810001       1892  \n",
       "1778  44.500000       1966  \n",
       "1779  44.500000       1966  \n",
       "1780  43.889999       2010  "
      ]
     },
     "execution_count": 15,
     "metadata": {},
     "output_type": "execute_result"
    }
   ],
   "source": [
    "# Display the last 5 rows of your data\n",
    "sky_df.tail(5)"
   ]
  },
  {
   "cell_type": "markdown",
   "metadata": {},
   "source": [
    "### <font color='gray'>df</font><font color='blue'>.sample(</font><font color='gray'></font><font color='blue'>)</font> Retrieve random rows of your DataFrame"
   ]
  },
  {
   "cell_type": "markdown",
   "metadata": {},
   "source": [
    "This method you should be familiar with. We can sample by number of rows (**n**) or by fraction of rows (**frac**)."
   ]
  },
  {
   "cell_type": "code",
   "execution_count": 16,
   "metadata": {},
   "outputs": [
    {
     "data": {
      "text/html": [
       "<div>\n",
       "<style scoped>\n",
       "    .dataframe tbody tr th:only-of-type {\n",
       "        vertical-align: middle;\n",
       "    }\n",
       "\n",
       "    .dataframe tbody tr th {\n",
       "        vertical-align: top;\n",
       "    }\n",
       "\n",
       "    .dataframe thead th {\n",
       "        text-align: right;\n",
       "    }\n",
       "</style>\n",
       "<table border=\"1\" class=\"dataframe\">\n",
       "  <thead>\n",
       "    <tr style=\"text-align: right;\">\n",
       "      <th></th>\n",
       "      <th>name</th>\n",
       "      <th>material</th>\n",
       "      <th>city</th>\n",
       "      <th>height</th>\n",
       "      <th>completed</th>\n",
       "    </tr>\n",
       "  </thead>\n",
       "  <tbody>\n",
       "    <tr>\n",
       "      <th>1249</th>\n",
       "      <td>Trump Park Avenue</td>\n",
       "      <td>steel</td>\n",
       "      <td>New York City</td>\n",
       "      <td>106.680000</td>\n",
       "      <td>1929</td>\n",
       "    </tr>\n",
       "    <tr>\n",
       "      <th>919</th>\n",
       "      <td>Ashton</td>\n",
       "      <td>concrete</td>\n",
       "      <td>Austin</td>\n",
       "      <td>125.500000</td>\n",
       "      <td>2009</td>\n",
       "    </tr>\n",
       "    <tr>\n",
       "      <th>1196</th>\n",
       "      <td>Bay House Miami Residences</td>\n",
       "      <td>concrete</td>\n",
       "      <td>Miami</td>\n",
       "      <td>110.000000</td>\n",
       "      <td>2015</td>\n",
       "    </tr>\n",
       "    <tr>\n",
       "      <th>1123</th>\n",
       "      <td>Viad Tower</td>\n",
       "      <td>mixed/composite</td>\n",
       "      <td>Phoenix</td>\n",
       "      <td>114.000000</td>\n",
       "      <td>1991</td>\n",
       "    </tr>\n",
       "    <tr>\n",
       "      <th>1724</th>\n",
       "      <td>Cudahy Tower</td>\n",
       "      <td>steel</td>\n",
       "      <td>Milwaukee</td>\n",
       "      <td>68.400002</td>\n",
       "      <td>1928</td>\n",
       "    </tr>\n",
       "    <tr>\n",
       "      <th>1037</th>\n",
       "      <td>45-45 Center Boulevard</td>\n",
       "      <td>concrete</td>\n",
       "      <td>New York City</td>\n",
       "      <td>118.900002</td>\n",
       "      <td>2013</td>\n",
       "    </tr>\n",
       "    <tr>\n",
       "      <th>1279</th>\n",
       "      <td>Plaza Towers Apartments</td>\n",
       "      <td>concrete</td>\n",
       "      <td>New York City</td>\n",
       "      <td>105.459999</td>\n",
       "      <td>1964</td>\n",
       "    </tr>\n",
       "    <tr>\n",
       "      <th>866</th>\n",
       "      <td>Brickell on the River South Tower</td>\n",
       "      <td>concrete</td>\n",
       "      <td>Miami</td>\n",
       "      <td>128.929993</td>\n",
       "      <td>2007</td>\n",
       "    </tr>\n",
       "    <tr>\n",
       "      <th>465</th>\n",
       "      <td>Sterling Drug Company Building</td>\n",
       "      <td>steel</td>\n",
       "      <td>New York City</td>\n",
       "      <td>156.970001</td>\n",
       "      <td>1964</td>\n",
       "    </tr>\n",
       "    <tr>\n",
       "      <th>1622</th>\n",
       "      <td>Texas Children's Hospital Pavilion for Women</td>\n",
       "      <td>concrete</td>\n",
       "      <td>Houston</td>\n",
       "      <td>81.989998</td>\n",
       "      <td>2012</td>\n",
       "    </tr>\n",
       "  </tbody>\n",
       "</table>\n",
       "</div>"
      ],
      "text/plain": [
       "                                              name         material  \\\n",
       "1249                             Trump Park Avenue            steel   \n",
       "919                                         Ashton         concrete   \n",
       "1196                    Bay House Miami Residences         concrete   \n",
       "1123                                    Viad Tower  mixed/composite   \n",
       "1724                                  Cudahy Tower            steel   \n",
       "1037                        45-45 Center Boulevard         concrete   \n",
       "1279                       Plaza Towers Apartments         concrete   \n",
       "866              Brickell on the River South Tower         concrete   \n",
       "465                 Sterling Drug Company Building            steel   \n",
       "1622  Texas Children's Hospital Pavilion for Women         concrete   \n",
       "\n",
       "               city      height  completed  \n",
       "1249  New York City  106.680000       1929  \n",
       "919          Austin  125.500000       2009  \n",
       "1196          Miami  110.000000       2015  \n",
       "1123        Phoenix  114.000000       1991  \n",
       "1724      Milwaukee   68.400002       1928  \n",
       "1037  New York City  118.900002       2013  \n",
       "1279  New York City  105.459999       1964  \n",
       "866           Miami  128.929993       2007  \n",
       "465   New York City  156.970001       1964  \n",
       "1622        Houston   81.989998       2012  "
      ]
     },
     "execution_count": 16,
     "metadata": {},
     "output_type": "execute_result"
    }
   ],
   "source": [
    "# Display 10 random rows of your data\n",
    "sky_df.sample(n = 10)"
   ]
  },
  {
   "cell_type": "code",
   "execution_count": 17,
   "metadata": {},
   "outputs": [
    {
     "data": {
      "text/html": [
       "<div>\n",
       "<style scoped>\n",
       "    .dataframe tbody tr th:only-of-type {\n",
       "        vertical-align: middle;\n",
       "    }\n",
       "\n",
       "    .dataframe tbody tr th {\n",
       "        vertical-align: top;\n",
       "    }\n",
       "\n",
       "    .dataframe thead th {\n",
       "        text-align: right;\n",
       "    }\n",
       "</style>\n",
       "<table border=\"1\" class=\"dataframe\">\n",
       "  <thead>\n",
       "    <tr style=\"text-align: right;\">\n",
       "      <th></th>\n",
       "      <th>name</th>\n",
       "      <th>material</th>\n",
       "      <th>city</th>\n",
       "      <th>height</th>\n",
       "      <th>completed</th>\n",
       "    </tr>\n",
       "  </thead>\n",
       "  <tbody>\n",
       "    <tr>\n",
       "      <th>1591</th>\n",
       "      <td>Lake Park Plaza</td>\n",
       "      <td>concrete</td>\n",
       "      <td>Chicago</td>\n",
       "      <td>84.750000</td>\n",
       "      <td>1969</td>\n",
       "    </tr>\n",
       "    <tr>\n",
       "      <th>1625</th>\n",
       "      <td>Via6 North Tower</td>\n",
       "      <td>concrete</td>\n",
       "      <td>Seattle</td>\n",
       "      <td>81.400002</td>\n",
       "      <td>2013</td>\n",
       "    </tr>\n",
       "    <tr>\n",
       "      <th>1391</th>\n",
       "      <td>The Laurel</td>\n",
       "      <td>concrete</td>\n",
       "      <td>New York City</td>\n",
       "      <td>100.000000</td>\n",
       "      <td>2009</td>\n",
       "    </tr>\n",
       "    <tr>\n",
       "      <th>1412</th>\n",
       "      <td>The John Ross Tower</td>\n",
       "      <td>concrete</td>\n",
       "      <td>Portland</td>\n",
       "      <td>99.059998</td>\n",
       "      <td>2007</td>\n",
       "    </tr>\n",
       "    <tr>\n",
       "      <th>1628</th>\n",
       "      <td>Kheel Tower</td>\n",
       "      <td>steel</td>\n",
       "      <td>New York City</td>\n",
       "      <td>81.379997</td>\n",
       "      <td>1926</td>\n",
       "    </tr>\n",
       "    <tr>\n",
       "      <th>...</th>\n",
       "      <td>...</td>\n",
       "      <td>...</td>\n",
       "      <td>...</td>\n",
       "      <td>...</td>\n",
       "      <td>...</td>\n",
       "    </tr>\n",
       "    <tr>\n",
       "      <th>1373</th>\n",
       "      <td>2 Wall Street</td>\n",
       "      <td>steel</td>\n",
       "      <td>New York City</td>\n",
       "      <td>100.599998</td>\n",
       "      <td>1933</td>\n",
       "    </tr>\n",
       "    <tr>\n",
       "      <th>943</th>\n",
       "      <td>Murano Grande at Portofino</td>\n",
       "      <td>concrete</td>\n",
       "      <td>Miami Beach</td>\n",
       "      <td>124.059998</td>\n",
       "      <td>2003</td>\n",
       "    </tr>\n",
       "    <tr>\n",
       "      <th>64</th>\n",
       "      <td>Wells Fargo Center</td>\n",
       "      <td>mixed/composite</td>\n",
       "      <td>Minneapolis</td>\n",
       "      <td>236.320007</td>\n",
       "      <td>1988</td>\n",
       "    </tr>\n",
       "    <tr>\n",
       "      <th>1142</th>\n",
       "      <td>Western Union Building</td>\n",
       "      <td>steel</td>\n",
       "      <td>New York City</td>\n",
       "      <td>113.000000</td>\n",
       "      <td>1930</td>\n",
       "    </tr>\n",
       "    <tr>\n",
       "      <th>812</th>\n",
       "      <td>Carl B. Stokes Federal Courthouse</td>\n",
       "      <td>steel</td>\n",
       "      <td>Cleveland</td>\n",
       "      <td>131.070007</td>\n",
       "      <td>2002</td>\n",
       "    </tr>\n",
       "  </tbody>\n",
       "</table>\n",
       "<p>178 rows × 5 columns</p>\n",
       "</div>"
      ],
      "text/plain": [
       "                                   name         material           city  \\\n",
       "1591                    Lake Park Plaza         concrete        Chicago   \n",
       "1625                   Via6 North Tower         concrete        Seattle   \n",
       "1391                         The Laurel         concrete  New York City   \n",
       "1412                The John Ross Tower         concrete       Portland   \n",
       "1628                        Kheel Tower            steel  New York City   \n",
       "...                                 ...              ...            ...   \n",
       "1373                      2 Wall Street            steel  New York City   \n",
       "943          Murano Grande at Portofino         concrete    Miami Beach   \n",
       "64                   Wells Fargo Center  mixed/composite    Minneapolis   \n",
       "1142             Western Union Building            steel  New York City   \n",
       "812   Carl B. Stokes Federal Courthouse            steel      Cleveland   \n",
       "\n",
       "          height  completed  \n",
       "1591   84.750000       1969  \n",
       "1625   81.400002       2013  \n",
       "1391  100.000000       2009  \n",
       "1412   99.059998       2007  \n",
       "1628   81.379997       1926  \n",
       "...          ...        ...  \n",
       "1373  100.599998       1933  \n",
       "943   124.059998       2003  \n",
       "64    236.320007       1988  \n",
       "1142  113.000000       1930  \n",
       "812   131.070007       2002  \n",
       "\n",
       "[178 rows x 5 columns]"
      ]
     },
     "execution_count": 17,
     "metadata": {},
     "output_type": "execute_result"
    }
   ],
   "source": [
    "# Randomly display 10% of your data\n",
    "sky_df.sample(frac = 0.10)"
   ]
  },
  {
   "cell_type": "markdown",
   "metadata": {},
   "source": [
    "Note than when we display subsets of our data, the total number of displayed rows is capped at 10 by default. If we displayed all 178 rows from our 10% sample, the resulting table would take up the majority of the notebook. "
   ]
  },
  {
   "cell_type": "markdown",
   "metadata": {},
   "source": [
    "### Display info about columns in your DataFrame\n",
    "\n",
    "- `df.shape` # Returns dimensions of DataFrame\n",
    "- `df.info()` # info about each column  \n",
    "- `df.describe()` # statistics about each column of numbers  \n",
    "- `df['column_name'].unique()` # list of all unique values found in a column  "
   ]
  },
  {
   "cell_type": "markdown",
   "metadata": {},
   "source": [
    "The tools we just introduced are all great for quick checks on our data. Did the DataFrame import as I expected? Do I have the right number of columns and the right type of data in each?\n",
    "\n",
    "We'll now show you a few ways to explore our DataFrames in more detail."
   ]
  },
  {
   "cell_type": "markdown",
   "metadata": {},
   "source": [
    "### <font color='blue'>pd.shape</font> # The dimensions of our DataFrame"
   ]
  },
  {
   "cell_type": "markdown",
   "metadata": {},
   "source": [
    "`.shape` returns the number of rows and columns in our data, telling us how large our dataset is (rows * columns\"), how many variables we have (columns), and how many observations we have (rows). "
   ]
  },
  {
   "cell_type": "markdown",
   "metadata": {},
   "source": []
  },
  {
   "cell_type": "code",
   "execution_count": 18,
   "metadata": {
    "scrolled": true
   },
   "outputs": [
    {
     "data": {
      "text/plain": [
       "(1781, 5)"
      ]
     },
     "execution_count": 18,
     "metadata": {},
     "output_type": "execute_result"
    }
   ],
   "source": [
    "sky_df.shape   # (number of rows, number of columns)"
   ]
  },
  {
   "cell_type": "code",
   "execution_count": 19,
   "metadata": {},
   "outputs": [
    {
     "name": "stdout",
     "output_type": "stream",
     "text": [
      "1781 rows, 5 columns in sky_df data frame\n"
     ]
    }
   ],
   "source": [
    "num_rows = sky_df.shape[0]\n",
    "num_cols = sky_df.shape[1]\n",
    "\n",
    "print(f'{num_rows} rows, {num_cols} columns in sky_df data frame')"
   ]
  },
  {
   "cell_type": "markdown",
   "metadata": {},
   "source": [
    "Note another trick we just employed. The bracket subset in the form `object_name[index]` lets us pull out values from an array based on their location (index) in the array. `sky_df.shape[0]` means take the first value from the returned shape method. "
   ]
  },
  {
   "cell_type": "markdown",
   "metadata": {},
   "source": [
    "### <font color='blue'>df.info( )</font> # Type of each column, how many non-missing values in each column, memory use\n",
    "\n",
    "`.info()` returns a lot of useful information about your DataFrame. This includes the class of object (DataFrame in this case), the number of rows, the columns and their names, the number of observations in each column without missing values (NULL or NA), and the type of data in each column.\n",
    "\n",
    "It also tells you much of your computer's working memory (RAM) is occupied by the DataFrame. This is not an issue we've run into in DSCI101 and 102, but could be a problem when working with datasets w/ hundreds of thousands or millions of observations. "
   ]
  },
  {
   "cell_type": "code",
   "execution_count": 20,
   "metadata": {},
   "outputs": [
    {
     "name": "stdout",
     "output_type": "stream",
     "text": [
      "<class 'pandas.core.frame.DataFrame'>\n",
      "RangeIndex: 1781 entries, 0 to 1780\n",
      "Data columns (total 5 columns):\n",
      " #   Column     Non-Null Count  Dtype  \n",
      "---  ------     --------------  -----  \n",
      " 0   name       1781 non-null   object \n",
      " 1   material   1781 non-null   object \n",
      " 2   city       1781 non-null   object \n",
      " 3   height     1781 non-null   float64\n",
      " 4   completed  1781 non-null   int64  \n",
      "dtypes: float64(1), int64(1), object(3)\n",
      "memory usage: 69.7+ KB\n"
     ]
    }
   ],
   "source": [
    "sky_df.info()"
   ]
  },
  {
   "cell_type": "markdown",
   "metadata": {},
   "source": [
    "###  <font color='blue'>df.describe( )</font> # count, mean, std, min, max of each numeric column"
   ]
  },
  {
   "cell_type": "markdown",
   "metadata": {},
   "source": [
    "How about some quick statistics on all of your numeric variables?"
   ]
  },
  {
   "cell_type": "code",
   "execution_count": 21,
   "metadata": {
    "scrolled": true
   },
   "outputs": [
    {
     "data": {
      "text/html": [
       "<div>\n",
       "<style scoped>\n",
       "    .dataframe tbody tr th:only-of-type {\n",
       "        vertical-align: middle;\n",
       "    }\n",
       "\n",
       "    .dataframe tbody tr th {\n",
       "        vertical-align: top;\n",
       "    }\n",
       "\n",
       "    .dataframe thead th {\n",
       "        text-align: right;\n",
       "    }\n",
       "</style>\n",
       "<table border=\"1\" class=\"dataframe\">\n",
       "  <thead>\n",
       "    <tr style=\"text-align: right;\">\n",
       "      <th></th>\n",
       "      <th>height</th>\n",
       "      <th>completed</th>\n",
       "    </tr>\n",
       "  </thead>\n",
       "  <tbody>\n",
       "    <tr>\n",
       "      <th>count</th>\n",
       "      <td>1781.000000</td>\n",
       "      <td>1781.000000</td>\n",
       "    </tr>\n",
       "    <tr>\n",
       "      <th>mean</th>\n",
       "      <td>135.641084</td>\n",
       "      <td>1980.797305</td>\n",
       "    </tr>\n",
       "    <tr>\n",
       "      <th>std</th>\n",
       "      <td>49.147231</td>\n",
       "      <td>30.441838</td>\n",
       "    </tr>\n",
       "    <tr>\n",
       "      <th>min</th>\n",
       "      <td>43.889999</td>\n",
       "      <td>1886.000000</td>\n",
       "    </tr>\n",
       "    <tr>\n",
       "      <th>25%</th>\n",
       "      <td>102.410004</td>\n",
       "      <td>1967.000000</td>\n",
       "    </tr>\n",
       "    <tr>\n",
       "      <th>50%</th>\n",
       "      <td>128.000000</td>\n",
       "      <td>1987.000000</td>\n",
       "    </tr>\n",
       "    <tr>\n",
       "      <th>75%</th>\n",
       "      <td>158.800003</td>\n",
       "      <td>2007.000000</td>\n",
       "    </tr>\n",
       "    <tr>\n",
       "      <th>max</th>\n",
       "      <td>541.299988</td>\n",
       "      <td>2016.000000</td>\n",
       "    </tr>\n",
       "  </tbody>\n",
       "</table>\n",
       "</div>"
      ],
      "text/plain": [
       "            height    completed\n",
       "count  1781.000000  1781.000000\n",
       "mean    135.641084  1980.797305\n",
       "std      49.147231    30.441838\n",
       "min      43.889999  1886.000000\n",
       "25%     102.410004  1967.000000\n",
       "50%     128.000000  1987.000000\n",
       "75%     158.800003  2007.000000\n",
       "max     541.299988  2016.000000"
      ]
     },
     "execution_count": 21,
     "metadata": {},
     "output_type": "execute_result"
    }
   ],
   "source": [
    "sky_df.describe()"
   ]
  },
  {
   "cell_type": "markdown",
   "metadata": {},
   "source": [
    "### <font color='blue'>df['col-A'].unique( )</font> Unique values in a column"
   ]
  },
  {
   "cell_type": "markdown",
   "metadata": {},
   "source": [
    "Finally, we can easily look at all unique values in a column with `.unique()`. "
   ]
  },
  {
   "cell_type": "code",
   "execution_count": 22,
   "metadata": {},
   "outputs": [
    {
     "data": {
      "text/plain": [
       "array(['mixed/composite', 'steel', 'concrete'], dtype=object)"
      ]
     },
     "execution_count": 22,
     "metadata": {},
     "output_type": "execute_result"
    }
   ],
   "source": [
    "sky_df['material'].unique()"
   ]
  },
  {
   "cell_type": "markdown",
   "metadata": {},
   "source": [
    "# 3) Accessing values and subsetting DataFrames\n",
    "<a id='Section3'></a>"
   ]
  },
  {
   "cell_type": "markdown",
   "metadata": {},
   "source": [
    "It's one thing to *look* at your values, but *doing* anything with them requires tools for accessing only those values we want. Below we'll show how to access specific values by\n",
    "\n",
    "    1) Selecting rows/columns by their positional index\n",
    "    \n",
    "    2) Selecting columns by their name\n",
    "    \n",
    "    3) Subsetting rows with logical expressions"
   ]
  },
  {
   "cell_type": "markdown",
   "metadata": {},
   "source": [
    "## Subsets with indices"
   ]
  },
  {
   "cell_type": "markdown",
   "metadata": {},
   "source": [
    "### <font color='blue'>take some rows</font>  using row numbers (0 is first row)"
   ]
  },
  {
   "cell_type": "markdown",
   "metadata": {},
   "source": [
    "We previously demonstrated the use of brackets to subset arrays. We'll do something similar again to subset DataFrames in two dimensions (rows and columns) using the `.iloc[]` method. "
   ]
  },
  {
   "cell_type": "code",
   "execution_count": 23,
   "metadata": {},
   "outputs": [
    {
     "data": {
      "text/plain": [
       "'Empire State Building'"
      ]
     },
     "execution_count": 23,
     "metadata": {},
     "output_type": "execute_result"
    }
   ],
   "source": [
    "# Return the value of the 5th row in the 1st column \n",
    "sky_one_index = sky_df.iloc[4,0]\n",
    "sky_one_index"
   ]
  },
  {
   "cell_type": "markdown",
   "metadata": {},
   "source": [
    "We can also subset using multiple indices at once. An easy way to do so is with the `:` operator. It functions by returning all integers from a number on the left to the number on the right. When we include only `:` as our index, this simply means *all* values possible in the data object.   "
   ]
  },
  {
   "cell_type": "code",
   "execution_count": 24,
   "metadata": {},
   "outputs": [
    {
     "data": {
      "text/html": [
       "<div>\n",
       "<style scoped>\n",
       "    .dataframe tbody tr th:only-of-type {\n",
       "        vertical-align: middle;\n",
       "    }\n",
       "\n",
       "    .dataframe tbody tr th {\n",
       "        vertical-align: top;\n",
       "    }\n",
       "\n",
       "    .dataframe thead th {\n",
       "        text-align: right;\n",
       "    }\n",
       "</style>\n",
       "<table border=\"1\" class=\"dataframe\">\n",
       "  <thead>\n",
       "    <tr style=\"text-align: right;\">\n",
       "      <th></th>\n",
       "      <th>name</th>\n",
       "      <th>material</th>\n",
       "      <th>city</th>\n",
       "      <th>height</th>\n",
       "      <th>completed</th>\n",
       "    </tr>\n",
       "  </thead>\n",
       "  <tbody>\n",
       "    <tr>\n",
       "      <th>3</th>\n",
       "      <td>Trump International Hotel &amp; Tower</td>\n",
       "      <td>concrete</td>\n",
       "      <td>Chicago</td>\n",
       "      <td>423.220001</td>\n",
       "      <td>2009</td>\n",
       "    </tr>\n",
       "    <tr>\n",
       "      <th>4</th>\n",
       "      <td>Empire State Building</td>\n",
       "      <td>steel</td>\n",
       "      <td>New York City</td>\n",
       "      <td>381.000000</td>\n",
       "      <td>1931</td>\n",
       "    </tr>\n",
       "    <tr>\n",
       "      <th>5</th>\n",
       "      <td>Bank of America Tower</td>\n",
       "      <td>mixed/composite</td>\n",
       "      <td>New York City</td>\n",
       "      <td>365.799988</td>\n",
       "      <td>2009</td>\n",
       "    </tr>\n",
       "  </tbody>\n",
       "</table>\n",
       "</div>"
      ],
      "text/plain": [
       "                                name         material           city  \\\n",
       "3  Trump International Hotel & Tower         concrete        Chicago   \n",
       "4              Empire State Building            steel  New York City   \n",
       "5              Bank of America Tower  mixed/composite  New York City   \n",
       "\n",
       "       height  completed  \n",
       "3  423.220001       2009  \n",
       "4  381.000000       1931  \n",
       "5  365.799988       2009  "
      ]
     },
     "execution_count": 24,
     "metadata": {},
     "output_type": "execute_result"
    }
   ],
   "source": [
    "# Return rows 3, 4 and 5, and return all columns\n",
    "sky_via_index_numbers = sky_df.iloc[3:6, :] # Rows 3, 4, 5 but not 6, all columns :\n",
    "sky_via_index_numbers"
   ]
  },
  {
   "cell_type": "markdown",
   "metadata": {},
   "source": [
    "## Subsets by column name"
   ]
  },
  {
   "cell_type": "markdown",
   "metadata": {},
   "source": [
    "### <font color='blue'>which columns</font> to use in a new data frame</font> --like <font color='gray'>datascience</font> <font color='darkgreen'>.select( )</font> "
   ]
  },
  {
   "cell_type": "markdown",
   "metadata": {},
   "source": [
    "As we've already discovered, it's often easier or necessary to subset out tables for just the variables we need. Conveniently, we can do this again with bracket notation. Instead of passing numeric indices, we can pass an array of column names to take. "
   ]
  },
  {
   "cell_type": "code",
   "execution_count": 25,
   "metadata": {
    "scrolled": true
   },
   "outputs": [
    {
     "data": {
      "text/html": [
       "<div>\n",
       "<style scoped>\n",
       "    .dataframe tbody tr th:only-of-type {\n",
       "        vertical-align: middle;\n",
       "    }\n",
       "\n",
       "    .dataframe tbody tr th {\n",
       "        vertical-align: top;\n",
       "    }\n",
       "\n",
       "    .dataframe thead th {\n",
       "        text-align: right;\n",
       "    }\n",
       "</style>\n",
       "<table border=\"1\" class=\"dataframe\">\n",
       "  <thead>\n",
       "    <tr style=\"text-align: right;\">\n",
       "      <th></th>\n",
       "      <th>completed</th>\n",
       "      <th>city</th>\n",
       "      <th>height</th>\n",
       "    </tr>\n",
       "  </thead>\n",
       "  <tbody>\n",
       "    <tr>\n",
       "      <th>1771</th>\n",
       "      <td>1910</td>\n",
       "      <td>Salt Lake City</td>\n",
       "      <td>50.000000</td>\n",
       "    </tr>\n",
       "    <tr>\n",
       "      <th>1772</th>\n",
       "      <td>1899</td>\n",
       "      <td>New York City</td>\n",
       "      <td>49.380001</td>\n",
       "    </tr>\n",
       "    <tr>\n",
       "      <th>1773</th>\n",
       "      <td>1971</td>\n",
       "      <td>Salt Lake City</td>\n",
       "      <td>49.070000</td>\n",
       "    </tr>\n",
       "    <tr>\n",
       "      <th>1774</th>\n",
       "      <td>1897</td>\n",
       "      <td>Atlanta</td>\n",
       "      <td>48.200001</td>\n",
       "    </tr>\n",
       "    <tr>\n",
       "      <th>1775</th>\n",
       "      <td>2014</td>\n",
       "      <td>Chicago</td>\n",
       "      <td>47.400002</td>\n",
       "    </tr>\n",
       "    <tr>\n",
       "      <th>1776</th>\n",
       "      <td>2003</td>\n",
       "      <td>Sacramento</td>\n",
       "      <td>46.000000</td>\n",
       "    </tr>\n",
       "    <tr>\n",
       "      <th>1777</th>\n",
       "      <td>1892</td>\n",
       "      <td>St. Louis</td>\n",
       "      <td>44.810001</td>\n",
       "    </tr>\n",
       "    <tr>\n",
       "      <th>1778</th>\n",
       "      <td>1966</td>\n",
       "      <td>Chicago</td>\n",
       "      <td>44.500000</td>\n",
       "    </tr>\n",
       "    <tr>\n",
       "      <th>1779</th>\n",
       "      <td>1966</td>\n",
       "      <td>Chicago</td>\n",
       "      <td>44.500000</td>\n",
       "    </tr>\n",
       "    <tr>\n",
       "      <th>1780</th>\n",
       "      <td>2010</td>\n",
       "      <td>Columbus</td>\n",
       "      <td>43.889999</td>\n",
       "    </tr>\n",
       "  </tbody>\n",
       "</table>\n",
       "</div>"
      ],
      "text/plain": [
       "      completed            city     height\n",
       "1771       1910  Salt Lake City  50.000000\n",
       "1772       1899   New York City  49.380001\n",
       "1773       1971  Salt Lake City  49.070000\n",
       "1774       1897         Atlanta  48.200001\n",
       "1775       2014         Chicago  47.400002\n",
       "1776       2003      Sacramento  46.000000\n",
       "1777       1892       St. Louis  44.810001\n",
       "1778       1966         Chicago  44.500000\n",
       "1779       1966         Chicago  44.500000\n",
       "1780       2010        Columbus  43.889999"
      ]
     },
     "execution_count": 25,
     "metadata": {},
     "output_type": "execute_result"
    }
   ],
   "source": [
    "columns_to_use = ['completed', 'city', 'height']\n",
    "sky2_df = sky_df[columns_to_use]\n",
    "sky2_df.tail(10)"
   ]
  },
  {
   "cell_type": "markdown",
   "metadata": {},
   "source": [
    "### <font color='brown'>[[ ... ]]</font> is <font color='gray'>more traditional in Pandas</font> # but also <font color='darkred'>more error-prone</font>\n",
    "\n",
    "Forgetting to use double [[ ]] is a very common error;\n",
    "\n",
    "Use a list and then it's just my_df[my_list_of_columns] "
   ]
  },
  {
   "cell_type": "code",
   "execution_count": 26,
   "metadata": {},
   "outputs": [
    {
     "data": {
      "text/html": [
       "<div>\n",
       "<style scoped>\n",
       "    .dataframe tbody tr th:only-of-type {\n",
       "        vertical-align: middle;\n",
       "    }\n",
       "\n",
       "    .dataframe tbody tr th {\n",
       "        vertical-align: top;\n",
       "    }\n",
       "\n",
       "    .dataframe thead th {\n",
       "        text-align: right;\n",
       "    }\n",
       "</style>\n",
       "<table border=\"1\" class=\"dataframe\">\n",
       "  <thead>\n",
       "    <tr style=\"text-align: right;\">\n",
       "      <th></th>\n",
       "      <th>completed</th>\n",
       "      <th>city</th>\n",
       "      <th>height</th>\n",
       "    </tr>\n",
       "  </thead>\n",
       "  <tbody>\n",
       "    <tr>\n",
       "      <th>1776</th>\n",
       "      <td>2003</td>\n",
       "      <td>Sacramento</td>\n",
       "      <td>46.000000</td>\n",
       "    </tr>\n",
       "    <tr>\n",
       "      <th>1777</th>\n",
       "      <td>1892</td>\n",
       "      <td>St. Louis</td>\n",
       "      <td>44.810001</td>\n",
       "    </tr>\n",
       "    <tr>\n",
       "      <th>1778</th>\n",
       "      <td>1966</td>\n",
       "      <td>Chicago</td>\n",
       "      <td>44.500000</td>\n",
       "    </tr>\n",
       "    <tr>\n",
       "      <th>1779</th>\n",
       "      <td>1966</td>\n",
       "      <td>Chicago</td>\n",
       "      <td>44.500000</td>\n",
       "    </tr>\n",
       "    <tr>\n",
       "      <th>1780</th>\n",
       "      <td>2010</td>\n",
       "      <td>Columbus</td>\n",
       "      <td>43.889999</td>\n",
       "    </tr>\n",
       "  </tbody>\n",
       "</table>\n",
       "</div>"
      ],
      "text/plain": [
       "      completed        city     height\n",
       "1776       2003  Sacramento  46.000000\n",
       "1777       1892   St. Louis  44.810001\n",
       "1778       1966     Chicago  44.500000\n",
       "1779       1966     Chicago  44.500000\n",
       "1780       2010    Columbus  43.889999"
      ]
     },
     "execution_count": 26,
     "metadata": {},
     "output_type": "execute_result"
    }
   ],
   "source": [
    "sky2_df = sky_df[['completed', 'city', 'height']]  # Without [[ ]] it won't work right!\n",
    "sky2_df.tail(5)"
   ]
  },
  {
   "cell_type": "markdown",
   "metadata": {},
   "source": [
    "## Subsets with logical expressions"
   ]
  },
  {
   "cell_type": "markdown",
   "metadata": {},
   "source": [
    "### <font color='blue'>Get selected rows</font>  from pandas data frame  -like <font color='gray'>datascience</font> <font color='darkgreen'>.where( )</font> "
   ]
  },
  {
   "cell_type": "markdown",
   "metadata": {},
   "source": [
    "Index and column subsets have their uses, but the ability to subset our data based on specific conditions is workhorse tool in the data science toolbox. In 101 and 102 we used `.where()` to do this, but going forward we'll use the **logical subset**. \n",
    "\n",
    "1) Evaluate values in a column against against conditions using logical operators, attaining a new column of True/False values."
   ]
  },
  {
   "cell_type": "markdown",
   "metadata": {},
   "source": [
    "**Logical operators** and their equivalents in the `datascience` package. \n",
    "\n",
    "- `==` Is equal to; `are.equal_to()`                 \n",
    "- `!=` Not equal to; `are.not_equal_to()`    \n",
    "- `>`  Greater than; `are.above()`           \n",
    "- `>=` Greater than or equal to; `are.above_or_equal_to()`   \n",
    "- `<`  Less than; `are.below()`                \n",
    "- `<=` Less than or equal to; `are.below_or_equal_to()`\n",
    "- `in` Contained in; `are.containg()`"
   ]
  },
  {
   "cell_type": "code",
   "execution_count": 27,
   "metadata": {},
   "outputs": [
    {
     "data": {
      "text/plain": [
       "1525    False\n",
       "1725    False\n",
       "236     False\n",
       "479     False\n",
       "306     False\n",
       "452     False\n",
       "1218    False\n",
       "514     False\n",
       "639     False\n",
       "1374    False\n",
       "1427    False\n",
       "1247    False\n",
       "1360     True\n",
       "330     False\n",
       "1071    False\n",
       "Name: completed, dtype: bool"
      ]
     },
     "execution_count": 27,
     "metadata": {},
     "output_type": "execute_result"
    }
   ],
   "source": [
    "## Get a True / False column, filtering by year completed ...\n",
    "np.random.seed(1111) # to be able to repeat and get same results each time\n",
    "\n",
    "# Evaluate every value in the 'completed' column against the logical expression 'is equal to 1979'\n",
    "select_1979 = sky_df['completed'] == 1979\n",
    "\n",
    "select_1979.sample(15)"
   ]
  },
  {
   "cell_type": "markdown",
   "metadata": {},
   "source": [
    "2) Using these True/False values, bracket subset our data returning only those rows associated with True"
   ]
  },
  {
   "cell_type": "code",
   "execution_count": 28,
   "metadata": {},
   "outputs": [
    {
     "data": {
      "text/html": [
       "<div>\n",
       "<style scoped>\n",
       "    .dataframe tbody tr th:only-of-type {\n",
       "        vertical-align: middle;\n",
       "    }\n",
       "\n",
       "    .dataframe tbody tr th {\n",
       "        vertical-align: top;\n",
       "    }\n",
       "\n",
       "    .dataframe thead th {\n",
       "        text-align: right;\n",
       "    }\n",
       "</style>\n",
       "<table border=\"1\" class=\"dataframe\">\n",
       "  <thead>\n",
       "    <tr style=\"text-align: right;\">\n",
       "      <th></th>\n",
       "      <th>name</th>\n",
       "      <th>material</th>\n",
       "      <th>city</th>\n",
       "      <th>height</th>\n",
       "      <th>completed</th>\n",
       "    </tr>\n",
       "  </thead>\n",
       "  <tbody>\n",
       "    <tr>\n",
       "      <th>201</th>\n",
       "      <td>Citigroup Center</td>\n",
       "      <td>steel</td>\n",
       "      <td>Los Angeles</td>\n",
       "      <td>190.500000</td>\n",
       "      <td>1979</td>\n",
       "    </tr>\n",
       "    <tr>\n",
       "      <th>627</th>\n",
       "      <td>45 Fremont Center</td>\n",
       "      <td>steel</td>\n",
       "      <td>San Francisco</td>\n",
       "      <td>145.000000</td>\n",
       "      <td>1979</td>\n",
       "    </tr>\n",
       "    <tr>\n",
       "      <th>645</th>\n",
       "      <td>333 Market Building</td>\n",
       "      <td>steel</td>\n",
       "      <td>San Francisco</td>\n",
       "      <td>144.000000</td>\n",
       "      <td>1979</td>\n",
       "    </tr>\n",
       "    <tr>\n",
       "      <th>929</th>\n",
       "      <td>595 Market Street</td>\n",
       "      <td>concrete</td>\n",
       "      <td>San Francisco</td>\n",
       "      <td>125.000000</td>\n",
       "      <td>1979</td>\n",
       "    </tr>\n",
       "    <tr>\n",
       "      <th>930</th>\n",
       "      <td>1100 North Lake Shore Drive</td>\n",
       "      <td>concrete</td>\n",
       "      <td>Chicago</td>\n",
       "      <td>124.970001</td>\n",
       "      <td>1979</td>\n",
       "    </tr>\n",
       "  </tbody>\n",
       "</table>\n",
       "</div>"
      ],
      "text/plain": [
       "                            name  material           city      height  \\\n",
       "201             Citigroup Center     steel    Los Angeles  190.500000   \n",
       "627            45 Fremont Center     steel  San Francisco  145.000000   \n",
       "645          333 Market Building     steel  San Francisco  144.000000   \n",
       "929            595 Market Street  concrete  San Francisco  125.000000   \n",
       "930  1100 North Lake Shore Drive  concrete        Chicago  124.970001   \n",
       "\n",
       "     completed  \n",
       "201       1979  \n",
       "627       1979  \n",
       "645       1979  \n",
       "929       1979  \n",
       "930       1979  "
      ]
     },
     "execution_count": 28,
     "metadata": {},
     "output_type": "execute_result"
    }
   ],
   "source": [
    "select_1979 = sky_df['completed'] == 1979\n",
    "\n",
    "# Only put True rows into sky_1979_df\n",
    "sky_1979_df = sky_df[select_1979]  \n",
    "\n",
    "sky_1979_df.head(5)"
   ]
  },
  {
   "cell_type": "markdown",
   "metadata": {},
   "source": [
    "Even better, skip the middle-object and do the whole subset in one go, nesting our logical expression in our subset brackets."
   ]
  },
  {
   "cell_type": "code",
   "execution_count": 29,
   "metadata": {},
   "outputs": [
    {
     "data": {
      "text/html": [
       "<div>\n",
       "<style scoped>\n",
       "    .dataframe tbody tr th:only-of-type {\n",
       "        vertical-align: middle;\n",
       "    }\n",
       "\n",
       "    .dataframe tbody tr th {\n",
       "        vertical-align: top;\n",
       "    }\n",
       "\n",
       "    .dataframe thead th {\n",
       "        text-align: right;\n",
       "    }\n",
       "</style>\n",
       "<table border=\"1\" class=\"dataframe\">\n",
       "  <thead>\n",
       "    <tr style=\"text-align: right;\">\n",
       "      <th></th>\n",
       "      <th>name</th>\n",
       "      <th>material</th>\n",
       "      <th>city</th>\n",
       "      <th>height</th>\n",
       "      <th>completed</th>\n",
       "    </tr>\n",
       "  </thead>\n",
       "  <tbody>\n",
       "    <tr>\n",
       "      <th>201</th>\n",
       "      <td>Citigroup Center</td>\n",
       "      <td>steel</td>\n",
       "      <td>Los Angeles</td>\n",
       "      <td>190.500000</td>\n",
       "      <td>1979</td>\n",
       "    </tr>\n",
       "    <tr>\n",
       "      <th>627</th>\n",
       "      <td>45 Fremont Center</td>\n",
       "      <td>steel</td>\n",
       "      <td>San Francisco</td>\n",
       "      <td>145.000000</td>\n",
       "      <td>1979</td>\n",
       "    </tr>\n",
       "    <tr>\n",
       "      <th>645</th>\n",
       "      <td>333 Market Building</td>\n",
       "      <td>steel</td>\n",
       "      <td>San Francisco</td>\n",
       "      <td>144.000000</td>\n",
       "      <td>1979</td>\n",
       "    </tr>\n",
       "    <tr>\n",
       "      <th>929</th>\n",
       "      <td>595 Market Street</td>\n",
       "      <td>concrete</td>\n",
       "      <td>San Francisco</td>\n",
       "      <td>125.000000</td>\n",
       "      <td>1979</td>\n",
       "    </tr>\n",
       "    <tr>\n",
       "      <th>930</th>\n",
       "      <td>1100 North Lake Shore Drive</td>\n",
       "      <td>concrete</td>\n",
       "      <td>Chicago</td>\n",
       "      <td>124.970001</td>\n",
       "      <td>1979</td>\n",
       "    </tr>\n",
       "  </tbody>\n",
       "</table>\n",
       "</div>"
      ],
      "text/plain": [
       "                            name  material           city      height  \\\n",
       "201             Citigroup Center     steel    Los Angeles  190.500000   \n",
       "627            45 Fremont Center     steel  San Francisco  145.000000   \n",
       "645          333 Market Building     steel  San Francisco  144.000000   \n",
       "929            595 Market Street  concrete  San Francisco  125.000000   \n",
       "930  1100 North Lake Shore Drive  concrete        Chicago  124.970001   \n",
       "\n",
       "     completed  \n",
       "201       1979  \n",
       "627       1979  \n",
       "645       1979  \n",
       "929       1979  \n",
       "930       1979  "
      ]
     },
     "execution_count": 29,
     "metadata": {},
     "output_type": "execute_result"
    }
   ],
   "source": [
    "# You may see pandas code to get all buildings completed in 1979 using this style\n",
    "sky_1979_bldgs = sky_df[sky_df['completed'] == 1979]\n",
    "sky_1979_bldgs.head(5)"
   ]
  },
  {
   "cell_type": "markdown",
   "metadata": {},
   "source": [
    "### Get all buildings completed <font color='blue'>before 1979</font>"
   ]
  },
  {
   "cell_type": "code",
   "execution_count": 30,
   "metadata": {},
   "outputs": [
    {
     "data": {
      "text/html": [
       "<div>\n",
       "<style scoped>\n",
       "    .dataframe tbody tr th:only-of-type {\n",
       "        vertical-align: middle;\n",
       "    }\n",
       "\n",
       "    .dataframe tbody tr th {\n",
       "        vertical-align: top;\n",
       "    }\n",
       "\n",
       "    .dataframe thead th {\n",
       "        text-align: right;\n",
       "    }\n",
       "</style>\n",
       "<table border=\"1\" class=\"dataframe\">\n",
       "  <thead>\n",
       "    <tr style=\"text-align: right;\">\n",
       "      <th></th>\n",
       "      <th>name</th>\n",
       "      <th>material</th>\n",
       "      <th>city</th>\n",
       "      <th>height</th>\n",
       "      <th>completed</th>\n",
       "    </tr>\n",
       "  </thead>\n",
       "  <tbody>\n",
       "    <tr>\n",
       "      <th>1</th>\n",
       "      <td>Willis Tower</td>\n",
       "      <td>steel</td>\n",
       "      <td>Chicago</td>\n",
       "      <td>442.140015</td>\n",
       "      <td>1974</td>\n",
       "    </tr>\n",
       "    <tr>\n",
       "      <th>4</th>\n",
       "      <td>Empire State Building</td>\n",
       "      <td>steel</td>\n",
       "      <td>New York City</td>\n",
       "      <td>381.000000</td>\n",
       "      <td>1931</td>\n",
       "    </tr>\n",
       "    <tr>\n",
       "      <th>7</th>\n",
       "      <td>Aon Center</td>\n",
       "      <td>steel</td>\n",
       "      <td>Chicago</td>\n",
       "      <td>346.260010</td>\n",
       "      <td>1973</td>\n",
       "    </tr>\n",
       "    <tr>\n",
       "      <th>8</th>\n",
       "      <td>John Hancock Center</td>\n",
       "      <td>steel</td>\n",
       "      <td>Chicago</td>\n",
       "      <td>343.690002</td>\n",
       "      <td>1969</td>\n",
       "    </tr>\n",
       "    <tr>\n",
       "      <th>9</th>\n",
       "      <td>Chrysler Building</td>\n",
       "      <td>steel</td>\n",
       "      <td>New York City</td>\n",
       "      <td>318.899994</td>\n",
       "      <td>1930</td>\n",
       "    </tr>\n",
       "    <tr>\n",
       "      <th>21</th>\n",
       "      <td>70 Pine</td>\n",
       "      <td>steel</td>\n",
       "      <td>New York City</td>\n",
       "      <td>290.170013</td>\n",
       "      <td>1932</td>\n",
       "    </tr>\n",
       "    <tr>\n",
       "      <th>25</th>\n",
       "      <td>The Trump Building</td>\n",
       "      <td>steel</td>\n",
       "      <td>New York City</td>\n",
       "      <td>282.549988</td>\n",
       "      <td>1930</td>\n",
       "    </tr>\n",
       "    <tr>\n",
       "      <th>27</th>\n",
       "      <td>Citigroup Center</td>\n",
       "      <td>steel</td>\n",
       "      <td>New York City</td>\n",
       "      <td>278.899994</td>\n",
       "      <td>1977</td>\n",
       "    </tr>\n",
       "    <tr>\n",
       "      <th>35</th>\n",
       "      <td>Water Tower Place</td>\n",
       "      <td>concrete</td>\n",
       "      <td>Chicago</td>\n",
       "      <td>261.880005</td>\n",
       "      <td>1976</td>\n",
       "    </tr>\n",
       "    <tr>\n",
       "      <th>37</th>\n",
       "      <td>Aon Center</td>\n",
       "      <td>steel</td>\n",
       "      <td>Los Angeles</td>\n",
       "      <td>261.519989</td>\n",
       "      <td>1974</td>\n",
       "    </tr>\n",
       "  </tbody>\n",
       "</table>\n",
       "</div>"
      ],
      "text/plain": [
       "                     name  material           city      height  completed\n",
       "1            Willis Tower     steel        Chicago  442.140015       1974\n",
       "4   Empire State Building     steel  New York City  381.000000       1931\n",
       "7              Aon Center     steel        Chicago  346.260010       1973\n",
       "8     John Hancock Center     steel        Chicago  343.690002       1969\n",
       "9       Chrysler Building     steel  New York City  318.899994       1930\n",
       "21                70 Pine     steel  New York City  290.170013       1932\n",
       "25     The Trump Building     steel  New York City  282.549988       1930\n",
       "27       Citigroup Center     steel  New York City  278.899994       1977\n",
       "35      Water Tower Place  concrete        Chicago  261.880005       1976\n",
       "37             Aon Center     steel    Los Angeles  261.519989       1974"
      ]
     },
     "execution_count": 30,
     "metadata": {},
     "output_type": "execute_result"
    }
   ],
   "source": [
    "select_before_1979 = sky_df['completed'] < 1979\n",
    "\n",
    "# Only put True rows into sky_before_1979_df\n",
    "sky_before_1979_df = sky_df[select_before_1979]  \n",
    "\n",
    "sky_before_1979_df.head(10)"
   ]
  },
  {
   "cell_type": "markdown",
   "metadata": {},
   "source": [
    "### Get all the items that are in a list using <font color='blue'>.isin(list of values)</font>"
   ]
  },
  {
   "cell_type": "code",
   "execution_count": 31,
   "metadata": {},
   "outputs": [
    {
     "data": {
      "text/html": [
       "<div>\n",
       "<style scoped>\n",
       "    .dataframe tbody tr th:only-of-type {\n",
       "        vertical-align: middle;\n",
       "    }\n",
       "\n",
       "    .dataframe tbody tr th {\n",
       "        vertical-align: top;\n",
       "    }\n",
       "\n",
       "    .dataframe thead th {\n",
       "        text-align: right;\n",
       "    }\n",
       "</style>\n",
       "<table border=\"1\" class=\"dataframe\">\n",
       "  <thead>\n",
       "    <tr style=\"text-align: right;\">\n",
       "      <th></th>\n",
       "      <th>name</th>\n",
       "      <th>material</th>\n",
       "      <th>city</th>\n",
       "      <th>height</th>\n",
       "      <th>completed</th>\n",
       "    </tr>\n",
       "  </thead>\n",
       "  <tbody>\n",
       "    <tr>\n",
       "      <th>908</th>\n",
       "      <td>Crown Building</td>\n",
       "      <td>steel</td>\n",
       "      <td>New York City</td>\n",
       "      <td>126.800003</td>\n",
       "      <td>1921</td>\n",
       "    </tr>\n",
       "    <tr>\n",
       "      <th>1033</th>\n",
       "      <td>Park Row Building</td>\n",
       "      <td>steel</td>\n",
       "      <td>New York City</td>\n",
       "      <td>119.180000</td>\n",
       "      <td>1899</td>\n",
       "    </tr>\n",
       "    <tr>\n",
       "      <th>1579</th>\n",
       "      <td>6 North Michigan</td>\n",
       "      <td>steel</td>\n",
       "      <td>Chicago</td>\n",
       "      <td>85.949997</td>\n",
       "      <td>1899</td>\n",
       "    </tr>\n",
       "    <tr>\n",
       "      <th>1664</th>\n",
       "      <td>Santa Fe Building</td>\n",
       "      <td>steel</td>\n",
       "      <td>Chicago</td>\n",
       "      <td>78.940002</td>\n",
       "      <td>1904</td>\n",
       "    </tr>\n",
       "    <tr>\n",
       "      <th>1772</th>\n",
       "      <td>Bayard-Condict Building</td>\n",
       "      <td>steel</td>\n",
       "      <td>New York City</td>\n",
       "      <td>49.380001</td>\n",
       "      <td>1899</td>\n",
       "    </tr>\n",
       "  </tbody>\n",
       "</table>\n",
       "</div>"
      ],
      "text/plain": [
       "                         name material           city      height  completed\n",
       "908            Crown Building    steel  New York City  126.800003       1921\n",
       "1033        Park Row Building    steel  New York City  119.180000       1899\n",
       "1579         6 North Michigan    steel        Chicago   85.949997       1899\n",
       "1664        Santa Fe Building    steel        Chicago   78.940002       1904\n",
       "1772  Bayard-Condict Building    steel  New York City   49.380001       1899"
      ]
     },
     "execution_count": 31,
     "metadata": {},
     "output_type": "execute_result"
    }
   ],
   "source": [
    "# Select all rows associated with the years 1899, 1904, 1921\n",
    "select_dates = sky_df['completed'].isin([1899, 1904, 1921])\n",
    "\n",
    "# select dates is an array of True / False values\n",
    "sky_selected_years = sky_df[select_dates]\n",
    "\n",
    "sky_selected_years"
   ]
  },
  {
   "cell_type": "code",
   "execution_count": 32,
   "metadata": {},
   "outputs": [
    {
     "data": {
      "text/html": [
       "<div>\n",
       "<style scoped>\n",
       "    .dataframe tbody tr th:only-of-type {\n",
       "        vertical-align: middle;\n",
       "    }\n",
       "\n",
       "    .dataframe tbody tr th {\n",
       "        vertical-align: top;\n",
       "    }\n",
       "\n",
       "    .dataframe thead th {\n",
       "        text-align: right;\n",
       "    }\n",
       "</style>\n",
       "<table border=\"1\" class=\"dataframe\">\n",
       "  <thead>\n",
       "    <tr style=\"text-align: right;\">\n",
       "      <th></th>\n",
       "      <th>name</th>\n",
       "      <th>material</th>\n",
       "      <th>city</th>\n",
       "      <th>height</th>\n",
       "      <th>completed</th>\n",
       "    </tr>\n",
       "  </thead>\n",
       "  <tbody>\n",
       "    <tr>\n",
       "      <th>1344</th>\n",
       "      <td>The Grandview</td>\n",
       "      <td>concrete</td>\n",
       "      <td>Atlanta</td>\n",
       "      <td>102.000000</td>\n",
       "      <td>1990</td>\n",
       "    </tr>\n",
       "    <tr>\n",
       "      <th>1148</th>\n",
       "      <td>Terminus 200</td>\n",
       "      <td>concrete</td>\n",
       "      <td>Atlanta</td>\n",
       "      <td>112.650002</td>\n",
       "      <td>2009</td>\n",
       "    </tr>\n",
       "    <tr>\n",
       "      <th>66</th>\n",
       "      <td>191 Peachtree Tower</td>\n",
       "      <td>mixed/composite</td>\n",
       "      <td>Atlanta</td>\n",
       "      <td>234.699997</td>\n",
       "      <td>1992</td>\n",
       "    </tr>\n",
       "    <tr>\n",
       "      <th>1197</th>\n",
       "      <td>San Diego Marriott Marquis &amp; Marina Tower 1</td>\n",
       "      <td>steel</td>\n",
       "      <td>San Diego</td>\n",
       "      <td>110.000000</td>\n",
       "      <td>1984</td>\n",
       "    </tr>\n",
       "    <tr>\n",
       "      <th>1087</th>\n",
       "      <td>Sapphire Tower</td>\n",
       "      <td>concrete</td>\n",
       "      <td>San Diego</td>\n",
       "      <td>115.800003</td>\n",
       "      <td>2008</td>\n",
       "    </tr>\n",
       "    <tr>\n",
       "      <th>885</th>\n",
       "      <td>Vantage Pointe Condominium</td>\n",
       "      <td>concrete</td>\n",
       "      <td>San Diego</td>\n",
       "      <td>128.020004</td>\n",
       "      <td>2009</td>\n",
       "    </tr>\n",
       "    <tr>\n",
       "      <th>44</th>\n",
       "      <td>One Atlantic Center</td>\n",
       "      <td>mixed/composite</td>\n",
       "      <td>Atlanta</td>\n",
       "      <td>249.940002</td>\n",
       "      <td>1987</td>\n",
       "    </tr>\n",
       "    <tr>\n",
       "      <th>289</th>\n",
       "      <td>The Atlantic</td>\n",
       "      <td>concrete</td>\n",
       "      <td>Atlanta</td>\n",
       "      <td>175.869995</td>\n",
       "      <td>2009</td>\n",
       "    </tr>\n",
       "    <tr>\n",
       "      <th>1225</th>\n",
       "      <td>Esquire Plaza</td>\n",
       "      <td>steel</td>\n",
       "      <td>Sacramento</td>\n",
       "      <td>108.199997</td>\n",
       "      <td>1999</td>\n",
       "    </tr>\n",
       "    <tr>\n",
       "      <th>856</th>\n",
       "      <td>Harbor Club East</td>\n",
       "      <td>concrete</td>\n",
       "      <td>San Diego</td>\n",
       "      <td>129.240005</td>\n",
       "      <td>1992</td>\n",
       "    </tr>\n",
       "  </tbody>\n",
       "</table>\n",
       "</div>"
      ],
      "text/plain": [
       "                                             name         material  \\\n",
       "1344                                The Grandview         concrete   \n",
       "1148                                 Terminus 200         concrete   \n",
       "66                            191 Peachtree Tower  mixed/composite   \n",
       "1197  San Diego Marriott Marquis & Marina Tower 1            steel   \n",
       "1087                               Sapphire Tower         concrete   \n",
       "885                    Vantage Pointe Condominium         concrete   \n",
       "44                            One Atlantic Center  mixed/composite   \n",
       "289                                  The Atlantic         concrete   \n",
       "1225                                Esquire Plaza            steel   \n",
       "856                              Harbor Club East         concrete   \n",
       "\n",
       "            city      height  completed  \n",
       "1344     Atlanta  102.000000       1990  \n",
       "1148     Atlanta  112.650002       2009  \n",
       "66       Atlanta  234.699997       1992  \n",
       "1197   San Diego  110.000000       1984  \n",
       "1087   San Diego  115.800003       2008  \n",
       "885    San Diego  128.020004       2009  \n",
       "44       Atlanta  249.940002       1987  \n",
       "289      Atlanta  175.869995       2009  \n",
       "1225  Sacramento  108.199997       1999  \n",
       "856    San Diego  129.240005       1992  "
      ]
     },
     "execution_count": 32,
     "metadata": {},
     "output_type": "execute_result"
    }
   ],
   "source": [
    "# Select all rows associated with the cities Atlanta, Sacramento, San Diego\n",
    "select_cities = sky_df['city'].isin(['Atlanta', 'Sacramento', 'San Diego'])\n",
    "\n",
    "# select_cities is now an array of True / False values\n",
    "\n",
    "sky_selected_cities = sky_df[select_cities]\n",
    "sky_selected_cities.sample(10)"
   ]
  },
  {
   "cell_type": "markdown",
   "metadata": {},
   "source": [
    "### Show buildings (built in 1924)</font><font color='red'> & </font> (taller than 150 meters)<font color='red'>"
   ]
  },
  {
   "cell_type": "markdown",
   "metadata": {},
   "source": [
    "Finally, we're not limited by singular logical expressions. We can use multiple expressions to string together filters on our data. The most common operators are **and** represented by `&` in 'pandas', and **or**, represented by `|`. When subsetting with multiple conditions, `&` means that both logical expressions must be true for a row to be returned, while `|` means that either logical expression can be true for a row to be returned. \n",
    "\n",
    "Note: \"and\" would operate on an entire column but pandas says \"this does not make sense\"   \n",
    "Note2: & (bitwise \"and\") used in Pandas, works element by element   \n",
    "Note3: Need parentheses ( ) & ( )"
   ]
  },
  {
   "cell_type": "code",
   "execution_count": 33,
   "metadata": {},
   "outputs": [
    {
     "data": {
      "text/html": [
       "<div>\n",
       "<style scoped>\n",
       "    .dataframe tbody tr th:only-of-type {\n",
       "        vertical-align: middle;\n",
       "    }\n",
       "\n",
       "    .dataframe tbody tr th {\n",
       "        vertical-align: top;\n",
       "    }\n",
       "\n",
       "    .dataframe thead th {\n",
       "        text-align: right;\n",
       "    }\n",
       "</style>\n",
       "<table border=\"1\" class=\"dataframe\">\n",
       "  <thead>\n",
       "    <tr style=\"text-align: right;\">\n",
       "      <th></th>\n",
       "      <th>name</th>\n",
       "      <th>material</th>\n",
       "      <th>city</th>\n",
       "      <th>height</th>\n",
       "      <th>completed</th>\n",
       "    </tr>\n",
       "  </thead>\n",
       "  <tbody>\n",
       "    <tr>\n",
       "      <th>315</th>\n",
       "      <td>Chicago Temple Building</td>\n",
       "      <td>steel</td>\n",
       "      <td>Chicago</td>\n",
       "      <td>173.130005</td>\n",
       "      <td>1924</td>\n",
       "    </tr>\n",
       "    <tr>\n",
       "      <th>451</th>\n",
       "      <td>26 Broadway</td>\n",
       "      <td>steel</td>\n",
       "      <td>New York City</td>\n",
       "      <td>158.500000</td>\n",
       "      <td>1924</td>\n",
       "    </tr>\n",
       "    <tr>\n",
       "      <th>487</th>\n",
       "      <td>Bank of America Building</td>\n",
       "      <td>steel</td>\n",
       "      <td>Baltimore</td>\n",
       "      <td>155.149994</td>\n",
       "      <td>1924</td>\n",
       "    </tr>\n",
       "  </tbody>\n",
       "</table>\n",
       "</div>"
      ],
      "text/plain": [
       "                         name material           city      height  completed\n",
       "315   Chicago Temple Building    steel        Chicago  173.130005       1924\n",
       "451               26 Broadway    steel  New York City  158.500000       1924\n",
       "487  Bank of America Building    steel      Baltimore  155.149994       1924"
      ]
     },
     "execution_count": 33,
     "metadata": {},
     "output_type": "execute_result"
    }
   ],
   "source": [
    "# ( ) parentheses needed \n",
    "select_1924_and_tall = (sky_df['completed'] == 1924) & (sky_df['height'] > 150.0)\n",
    "#                      *                           *   *                        *\n",
    "sky_old_tall = sky_df[select_1924_and_tall]\n",
    "sky_old_tall.head()"
   ]
  },
  {
   "cell_type": "markdown",
   "metadata": {},
   "source": [
    "Alternatively, "
   ]
  },
  {
   "cell_type": "code",
   "execution_count": 34,
   "metadata": {},
   "outputs": [
    {
     "data": {
      "text/html": [
       "<div>\n",
       "<style scoped>\n",
       "    .dataframe tbody tr th:only-of-type {\n",
       "        vertical-align: middle;\n",
       "    }\n",
       "\n",
       "    .dataframe tbody tr th {\n",
       "        vertical-align: top;\n",
       "    }\n",
       "\n",
       "    .dataframe thead th {\n",
       "        text-align: right;\n",
       "    }\n",
       "</style>\n",
       "<table border=\"1\" class=\"dataframe\">\n",
       "  <thead>\n",
       "    <tr style=\"text-align: right;\">\n",
       "      <th></th>\n",
       "      <th>name</th>\n",
       "      <th>material</th>\n",
       "      <th>city</th>\n",
       "      <th>height</th>\n",
       "      <th>completed</th>\n",
       "    </tr>\n",
       "  </thead>\n",
       "  <tbody>\n",
       "    <tr>\n",
       "      <th>315</th>\n",
       "      <td>Chicago Temple Building</td>\n",
       "      <td>steel</td>\n",
       "      <td>Chicago</td>\n",
       "      <td>173.130005</td>\n",
       "      <td>1924</td>\n",
       "    </tr>\n",
       "    <tr>\n",
       "      <th>451</th>\n",
       "      <td>26 Broadway</td>\n",
       "      <td>steel</td>\n",
       "      <td>New York City</td>\n",
       "      <td>158.500000</td>\n",
       "      <td>1924</td>\n",
       "    </tr>\n",
       "    <tr>\n",
       "      <th>487</th>\n",
       "      <td>Bank of America Building</td>\n",
       "      <td>steel</td>\n",
       "      <td>Baltimore</td>\n",
       "      <td>155.149994</td>\n",
       "      <td>1924</td>\n",
       "    </tr>\n",
       "  </tbody>\n",
       "</table>\n",
       "</div>"
      ],
      "text/plain": [
       "                         name material           city      height  completed\n",
       "315   Chicago Temple Building    steel        Chicago  173.130005       1924\n",
       "451               26 Broadway    steel  New York City  158.500000       1924\n",
       "487  Bank of America Building    steel      Baltimore  155.149994       1924"
      ]
     },
     "execution_count": 34,
     "metadata": {},
     "output_type": "execute_result"
    }
   ],
   "source": [
    "select_1924 = sky_df['completed'] == 1924\n",
    "select_tall  = sky_df['height'] > 150.0\n",
    "\n",
    "sky_old_tall3 = sky_df[select_1924 & select_tall]\n",
    "\n",
    "sky_old_tall3.head()"
   ]
  },
  {
   "cell_type": "markdown",
   "metadata": {},
   "source": [
    "If we want either of two groups, we use `|` instead. "
   ]
  },
  {
   "cell_type": "markdown",
   "metadata": {},
   "source": [
    "### Either (completed in 1904 ) <font color='red'> | </font>  (city is Sacramento)\n",
    "\n",
    "`select_groups = (sky_df['city'] == 'Sacramento') | (sky_df['completed'] == 1904) `"
   ]
  },
  {
   "cell_type": "code",
   "execution_count": 35,
   "metadata": {},
   "outputs": [
    {
     "data": {
      "text/html": [
       "<div>\n",
       "<style scoped>\n",
       "    .dataframe tbody tr th:only-of-type {\n",
       "        vertical-align: middle;\n",
       "    }\n",
       "\n",
       "    .dataframe tbody tr th {\n",
       "        vertical-align: top;\n",
       "    }\n",
       "\n",
       "    .dataframe thead th {\n",
       "        text-align: right;\n",
       "    }\n",
       "</style>\n",
       "<table border=\"1\" class=\"dataframe\">\n",
       "  <thead>\n",
       "    <tr style=\"text-align: right;\">\n",
       "      <th></th>\n",
       "      <th>name</th>\n",
       "      <th>material</th>\n",
       "      <th>city</th>\n",
       "      <th>height</th>\n",
       "      <th>completed</th>\n",
       "    </tr>\n",
       "  </thead>\n",
       "  <tbody>\n",
       "    <tr>\n",
       "      <th>965</th>\n",
       "      <td>US Bank Tower</td>\n",
       "      <td>steel</td>\n",
       "      <td>Sacramento</td>\n",
       "      <td>122.599998</td>\n",
       "      <td>2008</td>\n",
       "    </tr>\n",
       "    <tr>\n",
       "      <th>1008</th>\n",
       "      <td>Bank of the West Tower</td>\n",
       "      <td>steel</td>\n",
       "      <td>Sacramento</td>\n",
       "      <td>120.699997</td>\n",
       "      <td>2009</td>\n",
       "    </tr>\n",
       "    <tr>\n",
       "      <th>1083</th>\n",
       "      <td>Park Tower</td>\n",
       "      <td>mixed/composite</td>\n",
       "      <td>Sacramento</td>\n",
       "      <td>115.820000</td>\n",
       "      <td>1991</td>\n",
       "    </tr>\n",
       "    <tr>\n",
       "      <th>1134</th>\n",
       "      <td>Renaissance Tower</td>\n",
       "      <td>steel</td>\n",
       "      <td>Sacramento</td>\n",
       "      <td>113.389999</td>\n",
       "      <td>1989</td>\n",
       "    </tr>\n",
       "    <tr>\n",
       "      <th>1136</th>\n",
       "      <td>Joe Serna Junior California EPA Building</td>\n",
       "      <td>steel</td>\n",
       "      <td>Sacramento</td>\n",
       "      <td>113.389999</td>\n",
       "      <td>2000</td>\n",
       "    </tr>\n",
       "    <tr>\n",
       "      <th>1225</th>\n",
       "      <td>Esquire Plaza</td>\n",
       "      <td>steel</td>\n",
       "      <td>Sacramento</td>\n",
       "      <td>108.199997</td>\n",
       "      <td>1999</td>\n",
       "    </tr>\n",
       "    <tr>\n",
       "      <th>1237</th>\n",
       "      <td>Capitol Square</td>\n",
       "      <td>concrete</td>\n",
       "      <td>Sacramento</td>\n",
       "      <td>106.980003</td>\n",
       "      <td>1992</td>\n",
       "    </tr>\n",
       "    <tr>\n",
       "      <th>1257</th>\n",
       "      <td>Robert T. Matsui Federal Courthouse</td>\n",
       "      <td>steel</td>\n",
       "      <td>Sacramento</td>\n",
       "      <td>106.680000</td>\n",
       "      <td>1992</td>\n",
       "    </tr>\n",
       "    <tr>\n",
       "      <th>1634</th>\n",
       "      <td>1325 J Street</td>\n",
       "      <td>concrete</td>\n",
       "      <td>Sacramento</td>\n",
       "      <td>80.769997</td>\n",
       "      <td>1999</td>\n",
       "    </tr>\n",
       "    <tr>\n",
       "      <th>1635</th>\n",
       "      <td>300 Capitol Mall</td>\n",
       "      <td>steel</td>\n",
       "      <td>Sacramento</td>\n",
       "      <td>80.769997</td>\n",
       "      <td>1984</td>\n",
       "    </tr>\n",
       "    <tr>\n",
       "      <th>1664</th>\n",
       "      <td>Santa Fe Building</td>\n",
       "      <td>steel</td>\n",
       "      <td>Chicago</td>\n",
       "      <td>78.940002</td>\n",
       "      <td>1904</td>\n",
       "    </tr>\n",
       "    <tr>\n",
       "      <th>1776</th>\n",
       "      <td>Meridian Plaza I</td>\n",
       "      <td>concrete</td>\n",
       "      <td>Sacramento</td>\n",
       "      <td>46.000000</td>\n",
       "      <td>2003</td>\n",
       "    </tr>\n",
       "  </tbody>\n",
       "</table>\n",
       "</div>"
      ],
      "text/plain": [
       "                                          name         material        city  \\\n",
       "965                              US Bank Tower            steel  Sacramento   \n",
       "1008                    Bank of the West Tower            steel  Sacramento   \n",
       "1083                                Park Tower  mixed/composite  Sacramento   \n",
       "1134                         Renaissance Tower            steel  Sacramento   \n",
       "1136  Joe Serna Junior California EPA Building            steel  Sacramento   \n",
       "1225                             Esquire Plaza            steel  Sacramento   \n",
       "1237                            Capitol Square         concrete  Sacramento   \n",
       "1257       Robert T. Matsui Federal Courthouse            steel  Sacramento   \n",
       "1634                             1325 J Street         concrete  Sacramento   \n",
       "1635                          300 Capitol Mall            steel  Sacramento   \n",
       "1664                         Santa Fe Building            steel     Chicago   \n",
       "1776                          Meridian Plaza I         concrete  Sacramento   \n",
       "\n",
       "          height  completed  \n",
       "965   122.599998       2008  \n",
       "1008  120.699997       2009  \n",
       "1083  115.820000       1991  \n",
       "1134  113.389999       1989  \n",
       "1136  113.389999       2000  \n",
       "1225  108.199997       1999  \n",
       "1237  106.980003       1992  \n",
       "1257  106.680000       1992  \n",
       "1634   80.769997       1999  \n",
       "1635   80.769997       1984  \n",
       "1664   78.940002       1904  \n",
       "1776   46.000000       2003  "
      ]
     },
     "execution_count": 35,
     "metadata": {},
     "output_type": "execute_result"
    }
   ],
   "source": [
    "# Again, remember the ( )\n",
    "select_city_or_date = (sky_df['city'] == 'Sacramento') | (sky_df['completed'] == 1904) \n",
    "#                     *                              *   *                           *    \n",
    "sky_city_or_date = sky_df[select_city_or_date]\n",
    "sky_city_or_date"
   ]
  },
  {
   "cell_type": "markdown",
   "metadata": {},
   "source": [
    "## Subset with 'query'"
   ]
  },
  {
   "cell_type": "markdown",
   "metadata": {},
   "source": [
    "This is a good time to remind you about best practices in variable names, including column names. We should always avoid spaces in variable names (`year_completed` instead of `year completed`), as well as special characters (`tax_percent` instead of `tax%`). This is particularly important for `.query()`."
   ]
  },
  {
   "cell_type": "markdown",
   "metadata": {},
   "source": [
    "### Use df<font color='blue'>.query( )</font> to select rows"
   ]
  },
  {
   "cell_type": "markdown",
   "metadata": {},
   "source": [
    "`.query()` lets us select rows using expressions like above, but with different notation. Whereas above we created arrays of True/False and used these to subset in bracket notation, `.query()` is a method that subsets for us given a logical expression. "
   ]
  },
  {
   "cell_type": "code",
   "execution_count": 36,
   "metadata": {},
   "outputs": [
    {
     "data": {
      "text/html": [
       "<div>\n",
       "<style scoped>\n",
       "    .dataframe tbody tr th:only-of-type {\n",
       "        vertical-align: middle;\n",
       "    }\n",
       "\n",
       "    .dataframe tbody tr th {\n",
       "        vertical-align: top;\n",
       "    }\n",
       "\n",
       "    .dataframe thead th {\n",
       "        text-align: right;\n",
       "    }\n",
       "</style>\n",
       "<table border=\"1\" class=\"dataframe\">\n",
       "  <thead>\n",
       "    <tr style=\"text-align: right;\">\n",
       "      <th></th>\n",
       "      <th>name</th>\n",
       "      <th>material</th>\n",
       "      <th>city</th>\n",
       "      <th>height</th>\n",
       "      <th>completed</th>\n",
       "    </tr>\n",
       "  </thead>\n",
       "  <tbody>\n",
       "    <tr>\n",
       "      <th>72</th>\n",
       "      <td>Enterprise Plaza</td>\n",
       "      <td>mixed/composite</td>\n",
       "      <td>Houston</td>\n",
       "      <td>230.399994</td>\n",
       "      <td>1980</td>\n",
       "    </tr>\n",
       "    <tr>\n",
       "      <th>130</th>\n",
       "      <td>Three Allen Center</td>\n",
       "      <td>steel</td>\n",
       "      <td>Houston</td>\n",
       "      <td>208.789993</td>\n",
       "      <td>1980</td>\n",
       "    </tr>\n",
       "    <tr>\n",
       "      <th>139</th>\n",
       "      <td>AT&amp;T Building</td>\n",
       "      <td>concrete</td>\n",
       "      <td>Atlanta</td>\n",
       "      <td>206.350006</td>\n",
       "      <td>1980</td>\n",
       "    </tr>\n",
       "    <tr>\n",
       "      <th>433</th>\n",
       "      <td>767 3rd Avenue</td>\n",
       "      <td>steel</td>\n",
       "      <td>New York City</td>\n",
       "      <td>160.000000</td>\n",
       "      <td>1980</td>\n",
       "    </tr>\n",
       "    <tr>\n",
       "      <th>548</th>\n",
       "      <td>55 West Monroe</td>\n",
       "      <td>concrete</td>\n",
       "      <td>Chicago</td>\n",
       "      <td>150.919998</td>\n",
       "      <td>1980</td>\n",
       "    </tr>\n",
       "    <tr>\n",
       "      <th>603</th>\n",
       "      <td>KPMG Centre</td>\n",
       "      <td>steel</td>\n",
       "      <td>Dallas</td>\n",
       "      <td>146.610001</td>\n",
       "      <td>1980</td>\n",
       "    </tr>\n",
       "  </tbody>\n",
       "</table>\n",
       "</div>"
      ],
      "text/plain": [
       "                   name         material           city      height  completed\n",
       "72     Enterprise Plaza  mixed/composite        Houston  230.399994       1980\n",
       "130  Three Allen Center            steel        Houston  208.789993       1980\n",
       "139       AT&T Building         concrete        Atlanta  206.350006       1980\n",
       "433      767 3rd Avenue            steel  New York City  160.000000       1980\n",
       "548      55 West Monroe         concrete        Chicago  150.919998       1980\n",
       "603         KPMG Centre            steel         Dallas  146.610001       1980"
      ]
     },
     "execution_count": 36,
     "metadata": {},
     "output_type": "execute_result"
    }
   ],
   "source": [
    "# Get all buildings completed in 1980\n",
    "sky_1980 = sky_df.query('completed == 1980')\n",
    "sky_1980.head(6)"
   ]
  },
  {
   "cell_type": "code",
   "execution_count": 37,
   "metadata": {},
   "outputs": [
    {
     "data": {
      "text/html": [
       "<div>\n",
       "<style scoped>\n",
       "    .dataframe tbody tr th:only-of-type {\n",
       "        vertical-align: middle;\n",
       "    }\n",
       "\n",
       "    .dataframe tbody tr th {\n",
       "        vertical-align: top;\n",
       "    }\n",
       "\n",
       "    .dataframe thead th {\n",
       "        text-align: right;\n",
       "    }\n",
       "</style>\n",
       "<table border=\"1\" class=\"dataframe\">\n",
       "  <thead>\n",
       "    <tr style=\"text-align: right;\">\n",
       "      <th></th>\n",
       "      <th>name</th>\n",
       "      <th>material</th>\n",
       "      <th>city</th>\n",
       "      <th>height</th>\n",
       "      <th>completed</th>\n",
       "    </tr>\n",
       "  </thead>\n",
       "  <tbody>\n",
       "    <tr>\n",
       "      <th>4</th>\n",
       "      <td>Empire State Building</td>\n",
       "      <td>steel</td>\n",
       "      <td>New York City</td>\n",
       "      <td>381.000000</td>\n",
       "      <td>1931</td>\n",
       "    </tr>\n",
       "    <tr>\n",
       "      <th>9</th>\n",
       "      <td>Chrysler Building</td>\n",
       "      <td>steel</td>\n",
       "      <td>New York City</td>\n",
       "      <td>318.899994</td>\n",
       "      <td>1930</td>\n",
       "    </tr>\n",
       "    <tr>\n",
       "      <th>21</th>\n",
       "      <td>70 Pine</td>\n",
       "      <td>steel</td>\n",
       "      <td>New York City</td>\n",
       "      <td>290.170013</td>\n",
       "      <td>1932</td>\n",
       "    </tr>\n",
       "    <tr>\n",
       "      <th>25</th>\n",
       "      <td>The Trump Building</td>\n",
       "      <td>steel</td>\n",
       "      <td>New York City</td>\n",
       "      <td>282.549988</td>\n",
       "      <td>1930</td>\n",
       "    </tr>\n",
       "    <tr>\n",
       "      <th>39</th>\n",
       "      <td>Comcast Building</td>\n",
       "      <td>steel</td>\n",
       "      <td>New York City</td>\n",
       "      <td>259.079987</td>\n",
       "      <td>1933</td>\n",
       "    </tr>\n",
       "    <tr>\n",
       "      <th>47</th>\n",
       "      <td>28 Liberty</td>\n",
       "      <td>steel</td>\n",
       "      <td>New York City</td>\n",
       "      <td>247.809998</td>\n",
       "      <td>1961</td>\n",
       "    </tr>\n",
       "    <tr>\n",
       "      <th>49</th>\n",
       "      <td>MetLife Building</td>\n",
       "      <td>steel</td>\n",
       "      <td>New York City</td>\n",
       "      <td>246.279999</td>\n",
       "      <td>1963</td>\n",
       "    </tr>\n",
       "    <tr>\n",
       "      <th>52</th>\n",
       "      <td>Woolworth Building</td>\n",
       "      <td>steel</td>\n",
       "      <td>New York City</td>\n",
       "      <td>241.399994</td>\n",
       "      <td>1913</td>\n",
       "    </tr>\n",
       "    <tr>\n",
       "      <th>78</th>\n",
       "      <td>Prudential Tower</td>\n",
       "      <td>steel</td>\n",
       "      <td>Boston</td>\n",
       "      <td>228.600006</td>\n",
       "      <td>1964</td>\n",
       "    </tr>\n",
       "    <tr>\n",
       "      <th>89</th>\n",
       "      <td>Twenty Exchange</td>\n",
       "      <td>steel</td>\n",
       "      <td>New York City</td>\n",
       "      <td>225.860001</td>\n",
       "      <td>1931</td>\n",
       "    </tr>\n",
       "  </tbody>\n",
       "</table>\n",
       "</div>"
      ],
      "text/plain": [
       "                     name material           city      height  completed\n",
       "4   Empire State Building    steel  New York City  381.000000       1931\n",
       "9       Chrysler Building    steel  New York City  318.899994       1930\n",
       "21                70 Pine    steel  New York City  290.170013       1932\n",
       "25     The Trump Building    steel  New York City  282.549988       1930\n",
       "39       Comcast Building    steel  New York City  259.079987       1933\n",
       "47             28 Liberty    steel  New York City  247.809998       1961\n",
       "49       MetLife Building    steel  New York City  246.279999       1963\n",
       "52     Woolworth Building    steel  New York City  241.399994       1913\n",
       "78       Prudential Tower    steel         Boston  228.600006       1964\n",
       "89        Twenty Exchange    steel  New York City  225.860001       1931"
      ]
     },
     "execution_count": 37,
     "metadata": {},
     "output_type": "execute_result"
    }
   ],
   "source": [
    "# Get buildings completed before 1969\n",
    "sky_pre_1969 = sky_df.query('completed < 1969')\n",
    "sky_pre_1969.head(10)"
   ]
  },
  {
   "cell_type": "code",
   "execution_count": 38,
   "metadata": {},
   "outputs": [
    {
     "data": {
      "text/html": [
       "<div>\n",
       "<style scoped>\n",
       "    .dataframe tbody tr th:only-of-type {\n",
       "        vertical-align: middle;\n",
       "    }\n",
       "\n",
       "    .dataframe tbody tr th {\n",
       "        vertical-align: top;\n",
       "    }\n",
       "\n",
       "    .dataframe thead th {\n",
       "        text-align: right;\n",
       "    }\n",
       "</style>\n",
       "<table border=\"1\" class=\"dataframe\">\n",
       "  <thead>\n",
       "    <tr style=\"text-align: right;\">\n",
       "      <th></th>\n",
       "      <th>name</th>\n",
       "      <th>material</th>\n",
       "      <th>city</th>\n",
       "      <th>height</th>\n",
       "      <th>completed</th>\n",
       "    </tr>\n",
       "  </thead>\n",
       "  <tbody>\n",
       "    <tr>\n",
       "      <th>908</th>\n",
       "      <td>Crown Building</td>\n",
       "      <td>steel</td>\n",
       "      <td>New York City</td>\n",
       "      <td>126.800003</td>\n",
       "      <td>1921</td>\n",
       "    </tr>\n",
       "    <tr>\n",
       "      <th>1033</th>\n",
       "      <td>Park Row Building</td>\n",
       "      <td>steel</td>\n",
       "      <td>New York City</td>\n",
       "      <td>119.180000</td>\n",
       "      <td>1899</td>\n",
       "    </tr>\n",
       "    <tr>\n",
       "      <th>1579</th>\n",
       "      <td>6 North Michigan</td>\n",
       "      <td>steel</td>\n",
       "      <td>Chicago</td>\n",
       "      <td>85.949997</td>\n",
       "      <td>1899</td>\n",
       "    </tr>\n",
       "    <tr>\n",
       "      <th>1664</th>\n",
       "      <td>Santa Fe Building</td>\n",
       "      <td>steel</td>\n",
       "      <td>Chicago</td>\n",
       "      <td>78.940002</td>\n",
       "      <td>1904</td>\n",
       "    </tr>\n",
       "    <tr>\n",
       "      <th>1772</th>\n",
       "      <td>Bayard-Condict Building</td>\n",
       "      <td>steel</td>\n",
       "      <td>New York City</td>\n",
       "      <td>49.380001</td>\n",
       "      <td>1899</td>\n",
       "    </tr>\n",
       "  </tbody>\n",
       "</table>\n",
       "</div>"
      ],
      "text/plain": [
       "                         name material           city      height  completed\n",
       "908            Crown Building    steel  New York City  126.800003       1921\n",
       "1033        Park Row Building    steel  New York City  119.180000       1899\n",
       "1579         6 North Michigan    steel        Chicago   85.949997       1899\n",
       "1664        Santa Fe Building    steel        Chicago   78.940002       1904\n",
       "1772  Bayard-Condict Building    steel  New York City   49.380001       1899"
      ]
     },
     "execution_count": 38,
     "metadata": {},
     "output_type": "execute_result"
    }
   ],
   "source": [
    "# Get buildings completed in any of theses years [1899, 1904, 1921]\n",
    "sky_years = sky_df.query('completed in [1899, 1904, 1921]')\n",
    "sky_years.tail()"
   ]
  },
  {
   "cell_type": "code",
   "execution_count": 39,
   "metadata": {},
   "outputs": [
    {
     "data": {
      "text/html": [
       "<div>\n",
       "<style scoped>\n",
       "    .dataframe tbody tr th:only-of-type {\n",
       "        vertical-align: middle;\n",
       "    }\n",
       "\n",
       "    .dataframe tbody tr th {\n",
       "        vertical-align: top;\n",
       "    }\n",
       "\n",
       "    .dataframe thead th {\n",
       "        text-align: right;\n",
       "    }\n",
       "</style>\n",
       "<table border=\"1\" class=\"dataframe\">\n",
       "  <thead>\n",
       "    <tr style=\"text-align: right;\">\n",
       "      <th></th>\n",
       "      <th>name</th>\n",
       "      <th>material</th>\n",
       "      <th>city</th>\n",
       "      <th>height</th>\n",
       "      <th>completed</th>\n",
       "    </tr>\n",
       "  </thead>\n",
       "  <tbody>\n",
       "    <tr>\n",
       "      <th>315</th>\n",
       "      <td>Chicago Temple Building</td>\n",
       "      <td>steel</td>\n",
       "      <td>Chicago</td>\n",
       "      <td>173.130005</td>\n",
       "      <td>1924</td>\n",
       "    </tr>\n",
       "    <tr>\n",
       "      <th>451</th>\n",
       "      <td>26 Broadway</td>\n",
       "      <td>steel</td>\n",
       "      <td>New York City</td>\n",
       "      <td>158.500000</td>\n",
       "      <td>1924</td>\n",
       "    </tr>\n",
       "    <tr>\n",
       "      <th>487</th>\n",
       "      <td>Bank of America Building</td>\n",
       "      <td>steel</td>\n",
       "      <td>Baltimore</td>\n",
       "      <td>155.149994</td>\n",
       "      <td>1924</td>\n",
       "    </tr>\n",
       "  </tbody>\n",
       "</table>\n",
       "</div>"
      ],
      "text/plain": [
       "                         name material           city      height  completed\n",
       "315   Chicago Temple Building    steel        Chicago  173.130005       1924\n",
       "451               26 Broadway    steel  New York City  158.500000       1924\n",
       "487  Bank of America Building    steel      Baltimore  155.149994       1924"
      ]
     },
     "execution_count": 39,
     "metadata": {},
     "output_type": "execute_result"
    }
   ],
   "source": [
    "# Show buildings (built in 1924) and (taller than 150 meters)\n",
    "sky_1924_or_tall = sky_df.query('(completed == 1924) and (height > 150)')\n",
    "sky_1924_or_tall.head()"
   ]
  },
  {
   "cell_type": "code",
   "execution_count": 40,
   "metadata": {},
   "outputs": [
    {
     "data": {
      "text/html": [
       "<div>\n",
       "<style scoped>\n",
       "    .dataframe tbody tr th:only-of-type {\n",
       "        vertical-align: middle;\n",
       "    }\n",
       "\n",
       "    .dataframe tbody tr th {\n",
       "        vertical-align: top;\n",
       "    }\n",
       "\n",
       "    .dataframe thead th {\n",
       "        text-align: right;\n",
       "    }\n",
       "</style>\n",
       "<table border=\"1\" class=\"dataframe\">\n",
       "  <thead>\n",
       "    <tr style=\"text-align: right;\">\n",
       "      <th></th>\n",
       "      <th>name</th>\n",
       "      <th>material</th>\n",
       "      <th>city</th>\n",
       "      <th>height</th>\n",
       "      <th>completed</th>\n",
       "    </tr>\n",
       "  </thead>\n",
       "  <tbody>\n",
       "    <tr>\n",
       "      <th>0</th>\n",
       "      <td>One World Trade Center</td>\n",
       "      <td>mixed/composite</td>\n",
       "      <td>New York City</td>\n",
       "      <td>541.299988</td>\n",
       "      <td>2014</td>\n",
       "    </tr>\n",
       "    <tr>\n",
       "      <th>1</th>\n",
       "      <td>Willis Tower</td>\n",
       "      <td>steel</td>\n",
       "      <td>Chicago</td>\n",
       "      <td>442.140015</td>\n",
       "      <td>1974</td>\n",
       "    </tr>\n",
       "    <tr>\n",
       "      <th>2</th>\n",
       "      <td>432 Park Avenue</td>\n",
       "      <td>concrete</td>\n",
       "      <td>New York City</td>\n",
       "      <td>425.500000</td>\n",
       "      <td>2015</td>\n",
       "    </tr>\n",
       "    <tr>\n",
       "      <th>3</th>\n",
       "      <td>Trump International Hotel &amp; Tower</td>\n",
       "      <td>concrete</td>\n",
       "      <td>Chicago</td>\n",
       "      <td>423.220001</td>\n",
       "      <td>2009</td>\n",
       "    </tr>\n",
       "    <tr>\n",
       "      <th>377</th>\n",
       "      <td>Wells Fargo Center</td>\n",
       "      <td>steel</td>\n",
       "      <td>Portland</td>\n",
       "      <td>166.419998</td>\n",
       "      <td>1973</td>\n",
       "    </tr>\n",
       "  </tbody>\n",
       "</table>\n",
       "</div>"
      ],
      "text/plain": [
       "                                  name         material           city  \\\n",
       "0               One World Trade Center  mixed/composite  New York City   \n",
       "1                         Willis Tower            steel        Chicago   \n",
       "2                      432 Park Avenue         concrete  New York City   \n",
       "3    Trump International Hotel & Tower         concrete        Chicago   \n",
       "377                 Wells Fargo Center            steel       Portland   \n",
       "\n",
       "         height  completed  \n",
       "0    541.299988       2014  \n",
       "1    442.140015       1974  \n",
       "2    425.500000       2015  \n",
       "3    423.220001       2009  \n",
       "377  166.419998       1973  "
      ]
     },
     "execution_count": 40,
     "metadata": {},
     "output_type": "execute_result"
    }
   ],
   "source": [
    "# City Portland or height >= 400\n",
    "sky_weird_or_tall = sky_df.query('(city == \"Portland\") or  (height >= 400)')\n",
    "sky_weird_or_tall.head()"
   ]
  },
  {
   "cell_type": "markdown",
   "metadata": {},
   "source": [
    "# 4) Modifying DataFrames\n",
    "<a id='Section4'></a>"
   ]
  },
  {
   "cell_type": "markdown",
   "metadata": {},
   "source": [
    "We'll wrap up with a buffet of options for modifying our DataFrames, including sorting, changing values, and adding new data. "
   ]
  },
  {
   "cell_type": "markdown",
   "metadata": {},
   "source": [
    "## Sorting"
   ]
  },
  {
   "cell_type": "markdown",
   "metadata": {},
   "source": [
    "In sorting by columns, we can reorganize our DataFrame in logical orders."
   ]
  },
  {
   "cell_type": "markdown",
   "metadata": {},
   "source": [
    "### <font color='blue'>.sort_values</font>(<font color='gray'>'city'</font>) # sort by data frame column</font>"
   ]
  },
  {
   "cell_type": "markdown",
   "metadata": {},
   "source": [
    "If we sort by a column of string values, the DataFrame is reordered in alphabetical order of that column. "
   ]
  },
  {
   "cell_type": "code",
   "execution_count": 41,
   "metadata": {},
   "outputs": [
    {
     "data": {
      "text/html": [
       "<div>\n",
       "<style scoped>\n",
       "    .dataframe tbody tr th:only-of-type {\n",
       "        vertical-align: middle;\n",
       "    }\n",
       "\n",
       "    .dataframe tbody tr th {\n",
       "        vertical-align: top;\n",
       "    }\n",
       "\n",
       "    .dataframe thead th {\n",
       "        text-align: right;\n",
       "    }\n",
       "</style>\n",
       "<table border=\"1\" class=\"dataframe\">\n",
       "  <thead>\n",
       "    <tr style=\"text-align: right;\">\n",
       "      <th></th>\n",
       "      <th>name</th>\n",
       "      <th>material</th>\n",
       "      <th>city</th>\n",
       "      <th>height</th>\n",
       "      <th>completed</th>\n",
       "    </tr>\n",
       "  </thead>\n",
       "  <tbody>\n",
       "    <tr>\n",
       "      <th>1780</th>\n",
       "      <td>Grange Mutual Insurance Headquarters, South Bu...</td>\n",
       "      <td>steel</td>\n",
       "      <td>Columbus</td>\n",
       "      <td>43.889999</td>\n",
       "      <td>2010</td>\n",
       "    </tr>\n",
       "    <tr>\n",
       "      <th>1779</th>\n",
       "      <td>Hilliard Senior Homes II</td>\n",
       "      <td>concrete</td>\n",
       "      <td>Chicago</td>\n",
       "      <td>44.500000</td>\n",
       "      <td>1966</td>\n",
       "    </tr>\n",
       "    <tr>\n",
       "      <th>1778</th>\n",
       "      <td>Hilliard Senior Homes I</td>\n",
       "      <td>concrete</td>\n",
       "      <td>Chicago</td>\n",
       "      <td>44.500000</td>\n",
       "      <td>1966</td>\n",
       "    </tr>\n",
       "    <tr>\n",
       "      <th>1777</th>\n",
       "      <td>Wainwright Building</td>\n",
       "      <td>steel</td>\n",
       "      <td>St. Louis</td>\n",
       "      <td>44.810001</td>\n",
       "      <td>1892</td>\n",
       "    </tr>\n",
       "    <tr>\n",
       "      <th>1776</th>\n",
       "      <td>Meridian Plaza I</td>\n",
       "      <td>concrete</td>\n",
       "      <td>Sacramento</td>\n",
       "      <td>46.000000</td>\n",
       "      <td>2003</td>\n",
       "    </tr>\n",
       "    <tr>\n",
       "      <th>1775</th>\n",
       "      <td>GEMS World Academy - Chicago, Lower School</td>\n",
       "      <td>concrete</td>\n",
       "      <td>Chicago</td>\n",
       "      <td>47.400002</td>\n",
       "      <td>2014</td>\n",
       "    </tr>\n",
       "    <tr>\n",
       "      <th>1774</th>\n",
       "      <td>FlatironCity</td>\n",
       "      <td>steel</td>\n",
       "      <td>Atlanta</td>\n",
       "      <td>48.200001</td>\n",
       "      <td>1897</td>\n",
       "    </tr>\n",
       "    <tr>\n",
       "      <th>1773</th>\n",
       "      <td>Social and Behavioral Science Tower</td>\n",
       "      <td>concrete</td>\n",
       "      <td>Salt Lake City</td>\n",
       "      <td>49.070000</td>\n",
       "      <td>1971</td>\n",
       "    </tr>\n",
       "    <tr>\n",
       "      <th>1772</th>\n",
       "      <td>Bayard-Condict Building</td>\n",
       "      <td>steel</td>\n",
       "      <td>New York City</td>\n",
       "      <td>49.380001</td>\n",
       "      <td>1899</td>\n",
       "    </tr>\n",
       "    <tr>\n",
       "      <th>1771</th>\n",
       "      <td>Boston Building</td>\n",
       "      <td>steel</td>\n",
       "      <td>Salt Lake City</td>\n",
       "      <td>50.000000</td>\n",
       "      <td>1910</td>\n",
       "    </tr>\n",
       "  </tbody>\n",
       "</table>\n",
       "</div>"
      ],
      "text/plain": [
       "                                                   name  material  \\\n",
       "1780  Grange Mutual Insurance Headquarters, South Bu...     steel   \n",
       "1779                           Hilliard Senior Homes II  concrete   \n",
       "1778                            Hilliard Senior Homes I  concrete   \n",
       "1777                                Wainwright Building     steel   \n",
       "1776                                   Meridian Plaza I  concrete   \n",
       "1775         GEMS World Academy - Chicago, Lower School  concrete   \n",
       "1774                                       FlatironCity     steel   \n",
       "1773                Social and Behavioral Science Tower  concrete   \n",
       "1772                            Bayard-Condict Building     steel   \n",
       "1771                                    Boston Building     steel   \n",
       "\n",
       "                city     height  completed  \n",
       "1780        Columbus  43.889999       2010  \n",
       "1779         Chicago  44.500000       1966  \n",
       "1778         Chicago  44.500000       1966  \n",
       "1777       St. Louis  44.810001       1892  \n",
       "1776      Sacramento  46.000000       2003  \n",
       "1775         Chicago  47.400002       2014  \n",
       "1774         Atlanta  48.200001       1897  \n",
       "1773  Salt Lake City  49.070000       1971  \n",
       "1772   New York City  49.380001       1899  \n",
       "1771  Salt Lake City  50.000000       1910  "
      ]
     },
     "execution_count": 41,
     "metadata": {},
     "output_type": "execute_result"
    }
   ],
   "source": [
    "sky_by_city = sky_df.sort_values('height')\n",
    "\n",
    "sky_by_city.head(10)"
   ]
  },
  {
   "cell_type": "markdown",
   "metadata": {},
   "source": [
    "### <font color='blue'>.sort_values</font>(<font color='gray'>'completed'</font><font color='red'>, ascending=False</font>) # biggest numbers first</font>"
   ]
  },
  {
   "cell_type": "markdown",
   "metadata": {},
   "source": [
    "Alternatively, we can sort by numeric order of a column. The default way to do this is from lowest values to highest, but we can toggle the `ascending` argument to False to sort from highest values to lowest. "
   ]
  },
  {
   "cell_type": "code",
   "execution_count": 42,
   "metadata": {},
   "outputs": [
    {
     "data": {
      "text/html": [
       "<div>\n",
       "<style scoped>\n",
       "    .dataframe tbody tr th:only-of-type {\n",
       "        vertical-align: middle;\n",
       "    }\n",
       "\n",
       "    .dataframe tbody tr th {\n",
       "        vertical-align: top;\n",
       "    }\n",
       "\n",
       "    .dataframe thead th {\n",
       "        text-align: right;\n",
       "    }\n",
       "</style>\n",
       "<table border=\"1\" class=\"dataframe\">\n",
       "  <thead>\n",
       "    <tr style=\"text-align: right;\">\n",
       "      <th></th>\n",
       "      <th>name</th>\n",
       "      <th>material</th>\n",
       "      <th>city</th>\n",
       "      <th>height</th>\n",
       "      <th>completed</th>\n",
       "    </tr>\n",
       "  </thead>\n",
       "  <tbody>\n",
       "    <tr>\n",
       "      <th>436</th>\n",
       "      <td>Amazon Tower I</td>\n",
       "      <td>mixed/composite</td>\n",
       "      <td>Seattle</td>\n",
       "      <td>159.720001</td>\n",
       "      <td>2016</td>\n",
       "    </tr>\n",
       "    <tr>\n",
       "      <th>1768</th>\n",
       "      <td>City Hyde Park</td>\n",
       "      <td>concrete</td>\n",
       "      <td>Chicago</td>\n",
       "      <td>52.389999</td>\n",
       "      <td>2016</td>\n",
       "    </tr>\n",
       "    <tr>\n",
       "      <th>582</th>\n",
       "      <td>Wolf Point West Tower</td>\n",
       "      <td>concrete</td>\n",
       "      <td>Chicago</td>\n",
       "      <td>148.080002</td>\n",
       "      <td>2016</td>\n",
       "    </tr>\n",
       "    <tr>\n",
       "      <th>1025</th>\n",
       "      <td>325 LEX</td>\n",
       "      <td>concrete</td>\n",
       "      <td>New York City</td>\n",
       "      <td>119.790001</td>\n",
       "      <td>2015</td>\n",
       "    </tr>\n",
       "    <tr>\n",
       "      <th>1481</th>\n",
       "      <td>Purves I</td>\n",
       "      <td>concrete</td>\n",
       "      <td>New York City</td>\n",
       "      <td>93.900002</td>\n",
       "      <td>2015</td>\n",
       "    </tr>\n",
       "    <tr>\n",
       "      <th>1509</th>\n",
       "      <td>One Light</td>\n",
       "      <td>concrete</td>\n",
       "      <td>Kansas City</td>\n",
       "      <td>91.400002</td>\n",
       "      <td>2015</td>\n",
       "    </tr>\n",
       "    <tr>\n",
       "      <th>745</th>\n",
       "      <td>Chateau Beach Residences</td>\n",
       "      <td>concrete</td>\n",
       "      <td>Sunny Isles Beach</td>\n",
       "      <td>136.800003</td>\n",
       "      <td>2015</td>\n",
       "    </tr>\n",
       "    <tr>\n",
       "      <th>1533</th>\n",
       "      <td>Rego Park Center Tower</td>\n",
       "      <td>concrete</td>\n",
       "      <td>New York City</td>\n",
       "      <td>89.919998</td>\n",
       "      <td>2015</td>\n",
       "    </tr>\n",
       "  </tbody>\n",
       "</table>\n",
       "</div>"
      ],
      "text/plain": [
       "                          name         material               city  \\\n",
       "436             Amazon Tower I  mixed/composite            Seattle   \n",
       "1768            City Hyde Park         concrete            Chicago   \n",
       "582      Wolf Point West Tower         concrete            Chicago   \n",
       "1025                   325 LEX         concrete      New York City   \n",
       "1481                  Purves I         concrete      New York City   \n",
       "1509                 One Light         concrete        Kansas City   \n",
       "745   Chateau Beach Residences         concrete  Sunny Isles Beach   \n",
       "1533    Rego Park Center Tower         concrete      New York City   \n",
       "\n",
       "          height  completed  \n",
       "436   159.720001       2016  \n",
       "1768   52.389999       2016  \n",
       "582   148.080002       2016  \n",
       "1025  119.790001       2015  \n",
       "1481   93.900002       2015  \n",
       "1509   91.400002       2015  \n",
       "745   136.800003       2015  \n",
       "1533   89.919998       2015  "
      ]
     },
     "execution_count": 42,
     "metadata": {},
     "output_type": "execute_result"
    }
   ],
   "source": [
    "sky_by_years = sky_df.sort_values('completed', ascending=False) # big numbers first\n",
    "sky_by_years.head(8)"
   ]
  },
  {
   "cell_type": "markdown",
   "metadata": {},
   "source": [
    "### <font color='blue'>sort_values</font>(<font color='red'>['city', 'completed']</font>) # by data frame column list</font>"
   ]
  },
  {
   "cell_type": "markdown",
   "metadata": {},
   "source": [
    "Sorting DataFrames is not limited to a single column. If we pass an array of columns to `.sort_values()`, we can sort each column in the order they're listed. In this case, the second column will be sorted nested within the first column. "
   ]
  },
  {
   "cell_type": "code",
   "execution_count": 43,
   "metadata": {},
   "outputs": [
    {
     "data": {
      "text/html": [
       "<div>\n",
       "<style scoped>\n",
       "    .dataframe tbody tr th:only-of-type {\n",
       "        vertical-align: middle;\n",
       "    }\n",
       "\n",
       "    .dataframe tbody tr th {\n",
       "        vertical-align: top;\n",
       "    }\n",
       "\n",
       "    .dataframe thead th {\n",
       "        text-align: right;\n",
       "    }\n",
       "</style>\n",
       "<table border=\"1\" class=\"dataframe\">\n",
       "  <thead>\n",
       "    <tr style=\"text-align: right;\">\n",
       "      <th></th>\n",
       "      <th>name</th>\n",
       "      <th>material</th>\n",
       "      <th>city</th>\n",
       "      <th>height</th>\n",
       "      <th>completed</th>\n",
       "    </tr>\n",
       "  </thead>\n",
       "  <tbody>\n",
       "    <tr>\n",
       "      <th>1774</th>\n",
       "      <td>FlatironCity</td>\n",
       "      <td>steel</td>\n",
       "      <td>Atlanta</td>\n",
       "      <td>48.200001</td>\n",
       "      <td>1897</td>\n",
       "    </tr>\n",
       "    <tr>\n",
       "      <th>775</th>\n",
       "      <td>One Park Tower</td>\n",
       "      <td>steel</td>\n",
       "      <td>Atlanta</td>\n",
       "      <td>133.809998</td>\n",
       "      <td>1961</td>\n",
       "    </tr>\n",
       "    <tr>\n",
       "      <th>1075</th>\n",
       "      <td>230 Peachtree Building</td>\n",
       "      <td>steel</td>\n",
       "      <td>Atlanta</td>\n",
       "      <td>116.440002</td>\n",
       "      <td>1965</td>\n",
       "    </tr>\n",
       "    <tr>\n",
       "      <th>342</th>\n",
       "      <td>State of Georgia Building</td>\n",
       "      <td>steel</td>\n",
       "      <td>Atlanta</td>\n",
       "      <td>169.470001</td>\n",
       "      <td>1967</td>\n",
       "    </tr>\n",
       "    <tr>\n",
       "      <th>1140</th>\n",
       "      <td>One Georgia Center</td>\n",
       "      <td>steel</td>\n",
       "      <td>Atlanta</td>\n",
       "      <td>113.080002</td>\n",
       "      <td>1968</td>\n",
       "    </tr>\n",
       "    <tr>\n",
       "      <th>1103</th>\n",
       "      <td>Coastal States Insurance Building</td>\n",
       "      <td>steel</td>\n",
       "      <td>Atlanta</td>\n",
       "      <td>114.900002</td>\n",
       "      <td>1971</td>\n",
       "    </tr>\n",
       "    <tr>\n",
       "      <th>103</th>\n",
       "      <td>Westin Peachtree Plaza</td>\n",
       "      <td>concrete</td>\n",
       "      <td>Atlanta</td>\n",
       "      <td>220.369995</td>\n",
       "      <td>1976</td>\n",
       "    </tr>\n",
       "    <tr>\n",
       "      <th>139</th>\n",
       "      <td>AT&amp;T Building</td>\n",
       "      <td>concrete</td>\n",
       "      <td>Atlanta</td>\n",
       "      <td>206.350006</td>\n",
       "      <td>1980</td>\n",
       "    </tr>\n",
       "    <tr>\n",
       "      <th>1519</th>\n",
       "      <td>Georgia Power Company Headquarters</td>\n",
       "      <td>steel</td>\n",
       "      <td>Atlanta</td>\n",
       "      <td>91.000000</td>\n",
       "      <td>1981</td>\n",
       "    </tr>\n",
       "    <tr>\n",
       "      <th>352</th>\n",
       "      <td>Marriott Marquis Hotel</td>\n",
       "      <td>concrete</td>\n",
       "      <td>Atlanta</td>\n",
       "      <td>168.860001</td>\n",
       "      <td>1985</td>\n",
       "    </tr>\n",
       "  </tbody>\n",
       "</table>\n",
       "</div>"
      ],
      "text/plain": [
       "                                    name  material     city      height  \\\n",
       "1774                        FlatironCity     steel  Atlanta   48.200001   \n",
       "775                       One Park Tower     steel  Atlanta  133.809998   \n",
       "1075              230 Peachtree Building     steel  Atlanta  116.440002   \n",
       "342            State of Georgia Building     steel  Atlanta  169.470001   \n",
       "1140                  One Georgia Center     steel  Atlanta  113.080002   \n",
       "1103   Coastal States Insurance Building     steel  Atlanta  114.900002   \n",
       "103               Westin Peachtree Plaza  concrete  Atlanta  220.369995   \n",
       "139                        AT&T Building  concrete  Atlanta  206.350006   \n",
       "1519  Georgia Power Company Headquarters     steel  Atlanta   91.000000   \n",
       "352               Marriott Marquis Hotel  concrete  Atlanta  168.860001   \n",
       "\n",
       "      completed  \n",
       "1774       1897  \n",
       "775        1961  \n",
       "1075       1965  \n",
       "342        1967  \n",
       "1140       1968  \n",
       "1103       1971  \n",
       "103        1976  \n",
       "139        1980  \n",
       "1519       1981  \n",
       "352        1985  "
      ]
     },
     "execution_count": 43,
     "metadata": {},
     "output_type": "execute_result"
    }
   ],
   "source": [
    "sky_by_city_year = sky_df.sort_values(['city', 'completed'])\n",
    "sky_by_city_year.head(10)"
   ]
  },
  {
   "cell_type": "markdown",
   "metadata": {},
   "source": [
    "### <font color='blue'>sort_values(['city', 'completed'], </font><font color='red'>ascending=</font>[True, False]) "
   ]
  },
  {
   "cell_type": "markdown",
   "metadata": {},
   "source": [
    "We can also dictate the direction of our sort for each column passed. "
   ]
  },
  {
   "cell_type": "code",
   "execution_count": 44,
   "metadata": {},
   "outputs": [
    {
     "data": {
      "text/html": [
       "<div>\n",
       "<style scoped>\n",
       "    .dataframe tbody tr th:only-of-type {\n",
       "        vertical-align: middle;\n",
       "    }\n",
       "\n",
       "    .dataframe tbody tr th {\n",
       "        vertical-align: top;\n",
       "    }\n",
       "\n",
       "    .dataframe thead th {\n",
       "        text-align: right;\n",
       "    }\n",
       "</style>\n",
       "<table border=\"1\" class=\"dataframe\">\n",
       "  <thead>\n",
       "    <tr style=\"text-align: right;\">\n",
       "      <th></th>\n",
       "      <th>name</th>\n",
       "      <th>material</th>\n",
       "      <th>city</th>\n",
       "      <th>height</th>\n",
       "      <th>completed</th>\n",
       "    </tr>\n",
       "  </thead>\n",
       "  <tbody>\n",
       "    <tr>\n",
       "      <th>1647</th>\n",
       "      <td>SkyHouse South</td>\n",
       "      <td>concrete</td>\n",
       "      <td>Atlanta</td>\n",
       "      <td>80.000000</td>\n",
       "      <td>2014</td>\n",
       "    </tr>\n",
       "    <tr>\n",
       "      <th>575</th>\n",
       "      <td>1075 Peachtree Office Tower</td>\n",
       "      <td>concrete</td>\n",
       "      <td>Atlanta</td>\n",
       "      <td>148.740005</td>\n",
       "      <td>2010</td>\n",
       "    </tr>\n",
       "    <tr>\n",
       "      <th>1049</th>\n",
       "      <td>Loews Midtown</td>\n",
       "      <td>concrete</td>\n",
       "      <td>Atlanta</td>\n",
       "      <td>118.190002</td>\n",
       "      <td>2010</td>\n",
       "    </tr>\n",
       "    <tr>\n",
       "      <th>289</th>\n",
       "      <td>The Atlantic</td>\n",
       "      <td>concrete</td>\n",
       "      <td>Atlanta</td>\n",
       "      <td>175.869995</td>\n",
       "      <td>2009</td>\n",
       "    </tr>\n",
       "    <tr>\n",
       "      <th>660</th>\n",
       "      <td>3630 Peachtree Road</td>\n",
       "      <td>concrete</td>\n",
       "      <td>Atlanta</td>\n",
       "      <td>142.949997</td>\n",
       "      <td>2009</td>\n",
       "    </tr>\n",
       "    <tr>\n",
       "      <th>946</th>\n",
       "      <td>1010 Peachtree</td>\n",
       "      <td>concrete</td>\n",
       "      <td>Atlanta</td>\n",
       "      <td>124.000000</td>\n",
       "      <td>2009</td>\n",
       "    </tr>\n",
       "    <tr>\n",
       "      <th>1009</th>\n",
       "      <td>Two Alliance Center</td>\n",
       "      <td>mixed/composite</td>\n",
       "      <td>Atlanta</td>\n",
       "      <td>120.519997</td>\n",
       "      <td>2009</td>\n",
       "    </tr>\n",
       "    <tr>\n",
       "      <th>1148</th>\n",
       "      <td>Terminus 200</td>\n",
       "      <td>concrete</td>\n",
       "      <td>Atlanta</td>\n",
       "      <td>112.650002</td>\n",
       "      <td>2009</td>\n",
       "    </tr>\n",
       "    <tr>\n",
       "      <th>1368</th>\n",
       "      <td>W Downtown Atlanta Hotel &amp; Residences</td>\n",
       "      <td>concrete</td>\n",
       "      <td>Atlanta</td>\n",
       "      <td>100.900002</td>\n",
       "      <td>2009</td>\n",
       "    </tr>\n",
       "    <tr>\n",
       "      <th>151</th>\n",
       "      <td>Sovereign</td>\n",
       "      <td>concrete</td>\n",
       "      <td>Atlanta</td>\n",
       "      <td>202.690002</td>\n",
       "      <td>2008</td>\n",
       "    </tr>\n",
       "    <tr>\n",
       "      <th>283</th>\n",
       "      <td>The Mansion on Peachtree</td>\n",
       "      <td>concrete</td>\n",
       "      <td>Atlanta</td>\n",
       "      <td>176.789993</td>\n",
       "      <td>2008</td>\n",
       "    </tr>\n",
       "    <tr>\n",
       "      <th>522</th>\n",
       "      <td>Viewpoint</td>\n",
       "      <td>concrete</td>\n",
       "      <td>Atlanta</td>\n",
       "      <td>152.699997</td>\n",
       "      <td>2008</td>\n",
       "    </tr>\n",
       "    <tr>\n",
       "      <th>566</th>\n",
       "      <td>Twelve Centennial Park Tower I</td>\n",
       "      <td>concrete</td>\n",
       "      <td>Atlanta</td>\n",
       "      <td>149.660004</td>\n",
       "      <td>2007</td>\n",
       "    </tr>\n",
       "    <tr>\n",
       "      <th>584</th>\n",
       "      <td>Terminus 100</td>\n",
       "      <td>concrete</td>\n",
       "      <td>Atlanta</td>\n",
       "      <td>147.910004</td>\n",
       "      <td>2007</td>\n",
       "    </tr>\n",
       "    <tr>\n",
       "      <th>156</th>\n",
       "      <td>1180 Peachtree</td>\n",
       "      <td>concrete</td>\n",
       "      <td>Atlanta</td>\n",
       "      <td>200.160004</td>\n",
       "      <td>2006</td>\n",
       "    </tr>\n",
       "  </tbody>\n",
       "</table>\n",
       "</div>"
      ],
      "text/plain": [
       "                                       name         material     city  \\\n",
       "1647                         SkyHouse South         concrete  Atlanta   \n",
       "575             1075 Peachtree Office Tower         concrete  Atlanta   \n",
       "1049                          Loews Midtown         concrete  Atlanta   \n",
       "289                            The Atlantic         concrete  Atlanta   \n",
       "660                     3630 Peachtree Road         concrete  Atlanta   \n",
       "946                          1010 Peachtree         concrete  Atlanta   \n",
       "1009                    Two Alliance Center  mixed/composite  Atlanta   \n",
       "1148                           Terminus 200         concrete  Atlanta   \n",
       "1368  W Downtown Atlanta Hotel & Residences         concrete  Atlanta   \n",
       "151                               Sovereign         concrete  Atlanta   \n",
       "283                The Mansion on Peachtree         concrete  Atlanta   \n",
       "522                               Viewpoint         concrete  Atlanta   \n",
       "566          Twelve Centennial Park Tower I         concrete  Atlanta   \n",
       "584                            Terminus 100         concrete  Atlanta   \n",
       "156                          1180 Peachtree         concrete  Atlanta   \n",
       "\n",
       "          height  completed  \n",
       "1647   80.000000       2014  \n",
       "575   148.740005       2010  \n",
       "1049  118.190002       2010  \n",
       "289   175.869995       2009  \n",
       "660   142.949997       2009  \n",
       "946   124.000000       2009  \n",
       "1009  120.519997       2009  \n",
       "1148  112.650002       2009  \n",
       "1368  100.900002       2009  \n",
       "151   202.690002       2008  \n",
       "283   176.789993       2008  \n",
       "522   152.699997       2008  \n",
       "566   149.660004       2007  \n",
       "584   147.910004       2007  \n",
       "156   200.160004       2006  "
      ]
     },
     "execution_count": 44,
     "metadata": {},
     "output_type": "execute_result"
    }
   ],
   "source": [
    "sky_by_city = sky_df.sort_values(['city', 'completed'], ascending=[True, False])\n",
    "sky_by_city.head(15)"
   ]
  },
  {
   "cell_type": "markdown",
   "metadata": {},
   "source": [
    "## Using DataFrame columns as 'numpy' arrays\n",
    "\n",
    "Many vectorized operations (operations that apply iteratively to every element in an array) work specifically on 'numpy' arrays. This means its often important to extract columns in a DataFrame as an array object. This involves two steps: \n",
    "\n",
    "1) Identify the column   \n",
    "\n",
    "2) Convert that column to numpy   \n"
   ]
  },
  {
   "cell_type": "markdown",
   "metadata": {},
   "source": [
    "### my_array = df['column_name']<font color='blue'>.to_numpy()</font>"
   ]
  },
  {
   "cell_type": "code",
   "execution_count": 45,
   "metadata": {},
   "outputs": [
    {
     "data": {
      "text/plain": [
       "array([2014, 1974, 2015, ..., 1966, 1966, 2010], dtype=int64)"
      ]
     },
     "execution_count": 45,
     "metadata": {},
     "output_type": "execute_result"
    }
   ],
   "source": [
    "# Array from pandas data frame column\n",
    "year_completed = sky_df['completed'].to_numpy()\n",
    "year_completed"
   ]
  },
  {
   "cell_type": "code",
   "execution_count": 46,
   "metadata": {},
   "outputs": [
    {
     "data": {
      "text/plain": [
       "array([2014, 1974, 2015, ..., 1966, 1966, 2010], dtype=int64)"
      ]
     },
     "execution_count": 46,
     "metadata": {},
     "output_type": "execute_result"
    }
   ],
   "source": [
    "# Alternatively\n",
    "np.array(sky_df['completed'])"
   ]
  },
  {
   "cell_type": "markdown",
   "metadata": {},
   "source": [
    "### Compute a <font color='blue'>new age column</font>"
   ]
  },
  {
   "cell_type": "markdown",
   "metadata": {},
   "source": [
    "Using the ability to perform vectorized operations on 'numpy' arrays, we can easily create a new column giving us the age of each building. "
   ]
  },
  {
   "cell_type": "code",
   "execution_count": 47,
   "metadata": {
    "scrolled": false
   },
   "outputs": [
    {
     "data": {
      "text/html": [
       "<div>\n",
       "<style scoped>\n",
       "    .dataframe tbody tr th:only-of-type {\n",
       "        vertical-align: middle;\n",
       "    }\n",
       "\n",
       "    .dataframe tbody tr th {\n",
       "        vertical-align: top;\n",
       "    }\n",
       "\n",
       "    .dataframe thead th {\n",
       "        text-align: right;\n",
       "    }\n",
       "</style>\n",
       "<table border=\"1\" class=\"dataframe\">\n",
       "  <thead>\n",
       "    <tr style=\"text-align: right;\">\n",
       "      <th></th>\n",
       "      <th>name</th>\n",
       "      <th>material</th>\n",
       "      <th>city</th>\n",
       "      <th>height</th>\n",
       "      <th>completed</th>\n",
       "      <th>age</th>\n",
       "    </tr>\n",
       "  </thead>\n",
       "  <tbody>\n",
       "    <tr>\n",
       "      <th>0</th>\n",
       "      <td>One World Trade Center</td>\n",
       "      <td>mixed/composite</td>\n",
       "      <td>New York City</td>\n",
       "      <td>541.299988</td>\n",
       "      <td>2014</td>\n",
       "      <td>8</td>\n",
       "    </tr>\n",
       "    <tr>\n",
       "      <th>1</th>\n",
       "      <td>Willis Tower</td>\n",
       "      <td>steel</td>\n",
       "      <td>Chicago</td>\n",
       "      <td>442.140015</td>\n",
       "      <td>1974</td>\n",
       "      <td>48</td>\n",
       "    </tr>\n",
       "    <tr>\n",
       "      <th>2</th>\n",
       "      <td>432 Park Avenue</td>\n",
       "      <td>concrete</td>\n",
       "      <td>New York City</td>\n",
       "      <td>425.500000</td>\n",
       "      <td>2015</td>\n",
       "      <td>7</td>\n",
       "    </tr>\n",
       "    <tr>\n",
       "      <th>3</th>\n",
       "      <td>Trump International Hotel &amp; Tower</td>\n",
       "      <td>concrete</td>\n",
       "      <td>Chicago</td>\n",
       "      <td>423.220001</td>\n",
       "      <td>2009</td>\n",
       "      <td>13</td>\n",
       "    </tr>\n",
       "    <tr>\n",
       "      <th>4</th>\n",
       "      <td>Empire State Building</td>\n",
       "      <td>steel</td>\n",
       "      <td>New York City</td>\n",
       "      <td>381.000000</td>\n",
       "      <td>1931</td>\n",
       "      <td>91</td>\n",
       "    </tr>\n",
       "  </tbody>\n",
       "</table>\n",
       "</div>"
      ],
      "text/plain": [
       "                                name         material           city  \\\n",
       "0             One World Trade Center  mixed/composite  New York City   \n",
       "1                       Willis Tower            steel        Chicago   \n",
       "2                    432 Park Avenue         concrete  New York City   \n",
       "3  Trump International Hotel & Tower         concrete        Chicago   \n",
       "4              Empire State Building            steel  New York City   \n",
       "\n",
       "       height  completed  age  \n",
       "0  541.299988       2014    8  \n",
       "1  442.140015       1974   48  \n",
       "2  425.500000       2015    7  \n",
       "3  423.220001       2009   13  \n",
       "4  381.000000       1931   91  "
      ]
     },
     "execution_count": 47,
     "metadata": {},
     "output_type": "execute_result"
    }
   ],
   "source": [
    "sky_df['age'] = 2022 - sky_df['completed']\n",
    "sky_df.head(5)"
   ]
  },
  {
   "cell_type": "markdown",
   "metadata": {},
   "source": [
    "## Grouping and reshaping data\n",
    "<a id='Section4_2'></a>"
   ]
  },
  {
   "cell_type": "markdown",
   "metadata": {},
   "source": [
    "### <font color='blue'>.groupby('column_name')</font>"
   ]
  },
  {
   "cell_type": "markdown",
   "metadata": {},
   "source": [
    "The correlate to 'datascience' `.group()` is `.groupby()` in 'pandas. The application is basically the same: choose a column to group by, usually some sort of categorical variable or factor, and apply a method to each group. "
   ]
  },
  {
   "cell_type": "code",
   "execution_count": 48,
   "metadata": {
    "scrolled": true
   },
   "outputs": [
    {
     "data": {
      "text/plain": [
       "city\n",
       "Atlanta      38\n",
       "Austin       17\n",
       "Baltimore    14\n",
       "Boston       32\n",
       "Charlotte    12\n",
       "Name: city, dtype: int64"
      ]
     },
     "execution_count": 48,
     "metadata": {},
     "output_type": "execute_result"
    }
   ],
   "source": [
    "# Group by city and count the number of rows/observations associated with each\n",
    "sky_by_city = sky_df.groupby('city')['city'].count()\n",
    "sky_by_city.head(5)"
   ]
  },
  {
   "cell_type": "code",
   "execution_count": 49,
   "metadata": {
    "scrolled": false
   },
   "outputs": [
    {
     "data": {
      "text/plain": [
       "city\n",
       "Atlanta      311.799988\n",
       "Austin       208.149994\n",
       "Baltimore    161.240005\n",
       "Boston       240.789993\n",
       "Charlotte    265.480011\n",
       "Chicago      442.140015\n",
       "Name: height, dtype: float64"
      ]
     },
     "execution_count": 49,
     "metadata": {},
     "output_type": "execute_result"
    }
   ],
   "source": [
    "# Group by city and find the max height (the tallest building) in each\n",
    "sky_by_city = sky_df.groupby('city')['height'].max()\n",
    "sky_by_city.head(6)"
   ]
  },
  {
   "cell_type": "code",
   "execution_count": 50,
   "metadata": {},
   "outputs": [
    {
     "data": {
      "text/plain": [
       "city\n",
       "Atlanta      28.710526\n",
       "Austin       19.588235\n",
       "Baltimore    44.571429\n",
       "Boston       42.062500\n",
       "Charlotte    27.250000\n",
       "Name: age, dtype: float64"
      ]
     },
     "execution_count": 50,
     "metadata": {},
     "output_type": "execute_result"
    }
   ],
   "source": [
    "# Group by city and compute the average age of tall buildings\n",
    "sky_by_city_average = sky_df.groupby('city')['age'].mean()\n",
    "sky_by_city_average.head(5)"
   ]
  },
  {
   "cell_type": "markdown",
   "metadata": {},
   "source": [
    "We're not limited to a single grouping factor - we can split up our data along any combination of variables. "
   ]
  },
  {
   "cell_type": "code",
   "execution_count": 51,
   "metadata": {},
   "outputs": [
    {
     "data": {
      "text/plain": [
       "city       material       \n",
       "Atlanta    concrete           264.250000\n",
       "           mixed/composite    311.799988\n",
       "           steel              169.470001\n",
       "Austin     concrete           208.149994\n",
       "           steel               93.599998\n",
       "Baltimore  concrete           161.240005\n",
       "           steel              155.149994\n",
       "Name: height, dtype: float64"
      ]
     },
     "execution_count": 51,
     "metadata": {},
     "output_type": "execute_result"
    }
   ],
   "source": [
    "# Group by both city and material, then find the maximum height of each combination\n",
    "sky_by_city_material = sky_df.groupby(['city', 'material'])['height'].max()\n",
    "sky_by_city_material.head(7)"
   ]
  },
  {
   "cell_type": "markdown",
   "metadata": {},
   "source": [
    "### <font color='blue'>.pivot_table()</font> # A core function in reshaping data, often better than groupby-apply sequences"
   ]
  },
  {
   "cell_type": "markdown",
   "metadata": {},
   "source": [
    "This one is a long one, so we'll refer you to this guided tutorial:\n",
    "\n",
    "The full URL\n",
    "https://pbpython.com/pandas-pivot-table-explained.html \n",
    "\n",
    "Well worth checking it out. Starts with the basics, then adds a feature at a time to achieve some minor goal.\n",
    "\n",
    "The excel file the examples use is in our github DSCI101 area so once you define path (in the usual way), you will be able to follow along with the examples."
   ]
  },
  {
   "cell_type": "code",
   "execution_count": 52,
   "metadata": {},
   "outputs": [
    {
     "ename": "ImportError",
     "evalue": "Missing optional dependency 'openpyxl'.  Use pip or conda to install openpyxl.",
     "output_type": "error",
     "traceback": [
      "\u001b[1;31m---------------------------------------------------------------------------\u001b[0m",
      "\u001b[1;31mModuleNotFoundError\u001b[0m                       Traceback (most recent call last)",
      "File \u001b[1;32m~\\AppData\\Local\\Packages\\PythonSoftwareFoundation.Python.3.10_qbz5n2kfra8p0\\LocalCache\\local-packages\\Python310\\site-packages\\pandas\\compat\\_optional.py:141\u001b[0m, in \u001b[0;36mimport_optional_dependency\u001b[1;34m(name, extra, errors, min_version)\u001b[0m\n\u001b[0;32m    140\u001b[0m \u001b[39mtry\u001b[39;00m:\n\u001b[1;32m--> 141\u001b[0m     module \u001b[39m=\u001b[39m importlib\u001b[39m.\u001b[39;49mimport_module(name)\n\u001b[0;32m    142\u001b[0m \u001b[39mexcept\u001b[39;00m \u001b[39mImportError\u001b[39;00m:\n",
      "File \u001b[1;32mC:\\Program Files\\WindowsApps\\PythonSoftwareFoundation.Python.3.10_3.10.3056.0_x64__qbz5n2kfra8p0\\lib\\importlib\\__init__.py:126\u001b[0m, in \u001b[0;36mimport_module\u001b[1;34m(name, package)\u001b[0m\n\u001b[0;32m    125\u001b[0m         level \u001b[39m+\u001b[39m\u001b[39m=\u001b[39m \u001b[39m1\u001b[39m\n\u001b[1;32m--> 126\u001b[0m \u001b[39mreturn\u001b[39;00m _bootstrap\u001b[39m.\u001b[39;49m_gcd_import(name[level:], package, level)\n",
      "File \u001b[1;32m<frozen importlib._bootstrap>:1050\u001b[0m, in \u001b[0;36m_gcd_import\u001b[1;34m(name, package, level)\u001b[0m\n",
      "File \u001b[1;32m<frozen importlib._bootstrap>:1027\u001b[0m, in \u001b[0;36m_find_and_load\u001b[1;34m(name, import_)\u001b[0m\n",
      "File \u001b[1;32m<frozen importlib._bootstrap>:1004\u001b[0m, in \u001b[0;36m_find_and_load_unlocked\u001b[1;34m(name, import_)\u001b[0m\n",
      "\u001b[1;31mModuleNotFoundError\u001b[0m: No module named 'openpyxl'",
      "\nDuring handling of the above exception, another exception occurred:\n",
      "\u001b[1;31mImportError\u001b[0m                               Traceback (most recent call last)",
      "Cell \u001b[1;32mIn[52], line 6\u001b[0m\n\u001b[0;32m      1\u001b[0m \u001b[39m# Change this \u001b[39;00m\n\u001b[0;32m      2\u001b[0m \u001b[39m# df = pd.read_excel(\"../in/sales-funnel.xlsx\")\u001b[39;00m\n\u001b[0;32m      3\u001b[0m \u001b[39m# df.head()\u001b[39;00m\n\u001b[0;32m      4\u001b[0m \n\u001b[0;32m      5\u001b[0m \u001b[39m# To this -- then run the code shown in the Practical Business Python site (see URL above...)\u001b[39;00m\n\u001b[1;32m----> 6\u001b[0m df \u001b[39m=\u001b[39m pd\u001b[39m.\u001b[39;49mread_excel(path \u001b[39m+\u001b[39;49m \u001b[39m'\u001b[39;49m\u001b[39msales-funnel.xlsx\u001b[39;49m\u001b[39m'\u001b[39;49m)\n\u001b[0;32m      7\u001b[0m df\u001b[39m.\u001b[39mhead()\n\u001b[0;32m      9\u001b[0m \u001b[39m# Enjoy the article, and enjoy the step by step approach\u001b[39;00m\n",
      "File \u001b[1;32m~\\AppData\\Local\\Packages\\PythonSoftwareFoundation.Python.3.10_qbz5n2kfra8p0\\LocalCache\\local-packages\\Python310\\site-packages\\pandas\\util\\_decorators.py:211\u001b[0m, in \u001b[0;36mdeprecate_kwarg.<locals>._deprecate_kwarg.<locals>.wrapper\u001b[1;34m(*args, **kwargs)\u001b[0m\n\u001b[0;32m    209\u001b[0m     \u001b[39melse\u001b[39;00m:\n\u001b[0;32m    210\u001b[0m         kwargs[new_arg_name] \u001b[39m=\u001b[39m new_arg_value\n\u001b[1;32m--> 211\u001b[0m \u001b[39mreturn\u001b[39;00m func(\u001b[39m*\u001b[39margs, \u001b[39m*\u001b[39m\u001b[39m*\u001b[39mkwargs)\n",
      "File \u001b[1;32m~\\AppData\\Local\\Packages\\PythonSoftwareFoundation.Python.3.10_qbz5n2kfra8p0\\LocalCache\\local-packages\\Python310\\site-packages\\pandas\\util\\_decorators.py:331\u001b[0m, in \u001b[0;36mdeprecate_nonkeyword_arguments.<locals>.decorate.<locals>.wrapper\u001b[1;34m(*args, **kwargs)\u001b[0m\n\u001b[0;32m    325\u001b[0m \u001b[39mif\u001b[39;00m \u001b[39mlen\u001b[39m(args) \u001b[39m>\u001b[39m num_allow_args:\n\u001b[0;32m    326\u001b[0m     warnings\u001b[39m.\u001b[39mwarn(\n\u001b[0;32m    327\u001b[0m         msg\u001b[39m.\u001b[39mformat(arguments\u001b[39m=\u001b[39m_format_argument_list(allow_args)),\n\u001b[0;32m    328\u001b[0m         \u001b[39mFutureWarning\u001b[39;00m,\n\u001b[0;32m    329\u001b[0m         stacklevel\u001b[39m=\u001b[39mfind_stack_level(),\n\u001b[0;32m    330\u001b[0m     )\n\u001b[1;32m--> 331\u001b[0m \u001b[39mreturn\u001b[39;00m func(\u001b[39m*\u001b[39margs, \u001b[39m*\u001b[39m\u001b[39m*\u001b[39mkwargs)\n",
      "File \u001b[1;32m~\\AppData\\Local\\Packages\\PythonSoftwareFoundation.Python.3.10_qbz5n2kfra8p0\\LocalCache\\local-packages\\Python310\\site-packages\\pandas\\io\\excel\\_base.py:482\u001b[0m, in \u001b[0;36mread_excel\u001b[1;34m(io, sheet_name, header, names, index_col, usecols, squeeze, dtype, engine, converters, true_values, false_values, skiprows, nrows, na_values, keep_default_na, na_filter, verbose, parse_dates, date_parser, thousands, decimal, comment, skipfooter, convert_float, mangle_dupe_cols, storage_options)\u001b[0m\n\u001b[0;32m    480\u001b[0m \u001b[39mif\u001b[39;00m \u001b[39mnot\u001b[39;00m \u001b[39misinstance\u001b[39m(io, ExcelFile):\n\u001b[0;32m    481\u001b[0m     should_close \u001b[39m=\u001b[39m \u001b[39mTrue\u001b[39;00m\n\u001b[1;32m--> 482\u001b[0m     io \u001b[39m=\u001b[39m ExcelFile(io, storage_options\u001b[39m=\u001b[39;49mstorage_options, engine\u001b[39m=\u001b[39;49mengine)\n\u001b[0;32m    483\u001b[0m \u001b[39melif\u001b[39;00m engine \u001b[39mand\u001b[39;00m engine \u001b[39m!=\u001b[39m io\u001b[39m.\u001b[39mengine:\n\u001b[0;32m    484\u001b[0m     \u001b[39mraise\u001b[39;00m \u001b[39mValueError\u001b[39;00m(\n\u001b[0;32m    485\u001b[0m         \u001b[39m\"\u001b[39m\u001b[39mEngine should not be specified when passing \u001b[39m\u001b[39m\"\u001b[39m\n\u001b[0;32m    486\u001b[0m         \u001b[39m\"\u001b[39m\u001b[39man ExcelFile - ExcelFile already has the engine set\u001b[39m\u001b[39m\"\u001b[39m\n\u001b[0;32m    487\u001b[0m     )\n",
      "File \u001b[1;32m~\\AppData\\Local\\Packages\\PythonSoftwareFoundation.Python.3.10_qbz5n2kfra8p0\\LocalCache\\local-packages\\Python310\\site-packages\\pandas\\io\\excel\\_base.py:1695\u001b[0m, in \u001b[0;36mExcelFile.__init__\u001b[1;34m(self, path_or_buffer, engine, storage_options)\u001b[0m\n\u001b[0;32m   1692\u001b[0m \u001b[39mself\u001b[39m\u001b[39m.\u001b[39mengine \u001b[39m=\u001b[39m engine\n\u001b[0;32m   1693\u001b[0m \u001b[39mself\u001b[39m\u001b[39m.\u001b[39mstorage_options \u001b[39m=\u001b[39m storage_options\n\u001b[1;32m-> 1695\u001b[0m \u001b[39mself\u001b[39m\u001b[39m.\u001b[39m_reader \u001b[39m=\u001b[39m \u001b[39mself\u001b[39;49m\u001b[39m.\u001b[39;49m_engines[engine](\u001b[39mself\u001b[39;49m\u001b[39m.\u001b[39;49m_io, storage_options\u001b[39m=\u001b[39;49mstorage_options)\n",
      "File \u001b[1;32m~\\AppData\\Local\\Packages\\PythonSoftwareFoundation.Python.3.10_qbz5n2kfra8p0\\LocalCache\\local-packages\\Python310\\site-packages\\pandas\\io\\excel\\_openpyxl.py:556\u001b[0m, in \u001b[0;36mOpenpyxlReader.__init__\u001b[1;34m(self, filepath_or_buffer, storage_options)\u001b[0m\n\u001b[0;32m    541\u001b[0m \u001b[39m@doc\u001b[39m(storage_options\u001b[39m=\u001b[39m_shared_docs[\u001b[39m\"\u001b[39m\u001b[39mstorage_options\u001b[39m\u001b[39m\"\u001b[39m])\n\u001b[0;32m    542\u001b[0m \u001b[39mdef\u001b[39;00m \u001b[39m__init__\u001b[39m(\n\u001b[0;32m    543\u001b[0m     \u001b[39mself\u001b[39m,\n\u001b[0;32m    544\u001b[0m     filepath_or_buffer: FilePath \u001b[39m|\u001b[39m ReadBuffer[\u001b[39mbytes\u001b[39m],\n\u001b[0;32m    545\u001b[0m     storage_options: StorageOptions \u001b[39m=\u001b[39m \u001b[39mNone\u001b[39;00m,\n\u001b[0;32m    546\u001b[0m ) \u001b[39m-\u001b[39m\u001b[39m>\u001b[39m \u001b[39mNone\u001b[39;00m:\n\u001b[0;32m    547\u001b[0m \u001b[39m    \u001b[39m\u001b[39m\"\"\"\u001b[39;00m\n\u001b[0;32m    548\u001b[0m \u001b[39m    Reader using openpyxl engine.\u001b[39;00m\n\u001b[0;32m    549\u001b[0m \n\u001b[1;32m   (...)\u001b[0m\n\u001b[0;32m    554\u001b[0m \u001b[39m    {storage_options}\u001b[39;00m\n\u001b[0;32m    555\u001b[0m \u001b[39m    \"\"\"\u001b[39;00m\n\u001b[1;32m--> 556\u001b[0m     import_optional_dependency(\u001b[39m\"\u001b[39;49m\u001b[39mopenpyxl\u001b[39;49m\u001b[39m\"\u001b[39;49m)\n\u001b[0;32m    557\u001b[0m     \u001b[39msuper\u001b[39m()\u001b[39m.\u001b[39m\u001b[39m__init__\u001b[39m(filepath_or_buffer, storage_options\u001b[39m=\u001b[39mstorage_options)\n",
      "File \u001b[1;32m~\\AppData\\Local\\Packages\\PythonSoftwareFoundation.Python.3.10_qbz5n2kfra8p0\\LocalCache\\local-packages\\Python310\\site-packages\\pandas\\compat\\_optional.py:144\u001b[0m, in \u001b[0;36mimport_optional_dependency\u001b[1;34m(name, extra, errors, min_version)\u001b[0m\n\u001b[0;32m    142\u001b[0m \u001b[39mexcept\u001b[39;00m \u001b[39mImportError\u001b[39;00m:\n\u001b[0;32m    143\u001b[0m     \u001b[39mif\u001b[39;00m errors \u001b[39m==\u001b[39m \u001b[39m\"\u001b[39m\u001b[39mraise\u001b[39m\u001b[39m\"\u001b[39m:\n\u001b[1;32m--> 144\u001b[0m         \u001b[39mraise\u001b[39;00m \u001b[39mImportError\u001b[39;00m(msg)\n\u001b[0;32m    145\u001b[0m     \u001b[39melse\u001b[39;00m:\n\u001b[0;32m    146\u001b[0m         \u001b[39mreturn\u001b[39;00m \u001b[39mNone\u001b[39;00m\n",
      "\u001b[1;31mImportError\u001b[0m: Missing optional dependency 'openpyxl'.  Use pip or conda to install openpyxl."
     ]
    },
    {
     "ename": "",
     "evalue": "",
     "output_type": "error",
     "traceback": [
      "\u001b[1;31mThe Kernel crashed while executing code in the the current cell or a previous cell. Please review the code in the cell(s) to identify a possible cause of the failure. Click <a href='https://aka.ms/vscodeJupyterKernelCrash'>here</a> for more info. View Jupyter <a href='command:jupyter.viewOutput'>log</a> for further details."
     ]
    }
   ],
   "source": [
    "# Change this \n",
    "# df = pd.read_excel(\"../in/sales-funnel.xlsx\")\n",
    "# df.head()\n",
    "\n",
    "# To this -- then run the code shown in the Practical Business Python site (see URL above...)\n",
    "df = pd.read_excel(path + 'sales-funnel.xlsx')\n",
    "df.head()\n",
    "\n",
    "# Enjoy the article, and enjoy the step by step approach"
   ]
  },
  {
   "cell_type": "markdown",
   "metadata": {},
   "source": [
    "## Merge two DataFrames -- like datascience *join*\n",
    "<a id='Section4_3'></a>"
   ]
  },
  {
   "cell_type": "markdown",
   "metadata": {},
   "source": [
    "`.merge()` in 'pandas' (or `.join()` as you know it) takes two separate DataFrames and merges them into one using a **key**. A key is a common identifying variable shared between two datasets. Note that the presence of this key makes these datasets **relational**. "
   ]
  },
  {
   "cell_type": "markdown",
   "metadata": {},
   "source": [
    "### Read nba player data from 2013"
   ]
  },
  {
   "cell_type": "code",
   "execution_count": null,
   "metadata": {},
   "outputs": [],
   "source": [
    "nba = pd.read_csv(path + 'nba2013.csv')\n",
    "nba.sample(10)"
   ]
  },
  {
   "cell_type": "markdown",
   "metadata": {},
   "source": [
    "### Read nba salary data"
   ]
  },
  {
   "cell_type": "code",
   "execution_count": null,
   "metadata": {},
   "outputs": [],
   "source": [
    "nba_salary = pd.read_csv(path + 'nba_salaries.csv')\n",
    "nba_salary.sample(10)"
   ]
  },
  {
   "cell_type": "markdown",
   "metadata": {},
   "source": [
    "### <font color='blue'>merge left and right </font> data frames </font> -like <font color='gray'>datascience</font> <font color='darkgreen'>.join( )</font> \n",
    "\n",
    "When we talk about 'left' and 'right' DataFrames, we're typically talking about the original DataFrame to which we're adding new information (the left) and the DataFrame that is the source of this new information (the right). This is not always the case, merges can go in the other direction and sometimes we value information in both DataFrames equally, but is a useful convention. \n",
    "\n",
    "Let's demo two common merges."
   ]
  },
  {
   "cell_type": "markdown",
   "metadata": {},
   "source": [
    "### Left merge"
   ]
  },
  {
   "cell_type": "markdown",
   "metadata": {},
   "source": [
    "The left merge is a merge that preserves all information in the left DataFrame, and incorporates only information from the right DataFrame with a matching key. Below we do a left merge using player name as our key (specifying the column name for our key in left and right DataFrames respectively). "
   ]
  },
  {
   "cell_type": "code",
   "execution_count": null,
   "metadata": {},
   "outputs": [],
   "source": [
    "nba_left = pd.merge(nba, nba_salary,                     \n",
    "                   how='left',                         \n",
    "                   left_on='Name',right_on='PLAYER')    \n",
    "nba_left.head(9)"
   ]
  },
  {
   "cell_type": "markdown",
   "metadata": {},
   "source": [
    "We end up with added information where Name (left) and PLAYER (right) are the same. Because we did a left merge, we preserve the entirety of the left DataFrame and therefore end up with null values where there was no match on our key. "
   ]
  },
  {
   "cell_type": "markdown",
   "metadata": {},
   "source": [
    "### Inner merge"
   ]
  },
  {
   "cell_type": "markdown",
   "metadata": {},
   "source": [
    "The inner merge is also common, only keeping rows from both the left and right DataFrames where their key matches. Information from both DataFrames can be lost with this merge. "
   ]
  },
  {
   "cell_type": "code",
   "execution_count": null,
   "metadata": {
    "scrolled": true
   },
   "outputs": [],
   "source": [
    "nba_all = pd.merge(nba, nba_salary,                     \n",
    "                   how='inner',                         \n",
    "                   left_on='Name',right_on='PLAYER')    \n",
    "nba_all.head(9)"
   ]
  },
  {
   "cell_type": "markdown",
   "metadata": {},
   "source": [
    "Other options include: \n",
    "- 'outer' merge where all information is kept from both DataFrames, resulting in null values added to both left and right DataFrames. \n",
    "- 'right' merge, where all information is preserved in the right DataFrame but not the left. "
   ]
  },
  {
   "cell_type": "markdown",
   "metadata": {},
   "source": [
    "## Remove missing values from your DataFrame"
   ]
  },
  {
   "cell_type": "markdown",
   "metadata": {},
   "source": [
    "Removing null values can be important when calculating statistics or feeding data to models. For example, many functions that calculate averages will throw errors if fed missing values. "
   ]
  },
  {
   "cell_type": "markdown",
   "metadata": {},
   "source": [
    "### <font color='blue'>.dropna( )</font> drops all rows with any NaN value "
   ]
  },
  {
   "cell_type": "code",
   "execution_count": null,
   "metadata": {},
   "outputs": [],
   "source": [
    "nba_sal_plus = nba_all.dropna()\n",
    "\n",
    "nba_sal_plus.sample(10)"
   ]
  },
  {
   "cell_type": "markdown",
   "metadata": {},
   "source": [
    "## Replace values in your DataFrame"
   ]
  },
  {
   "cell_type": "markdown",
   "metadata": {},
   "source": [
    "We can easily change values in our DataFrames with `.replace()`. This method is often invoked in data cleaning or feature engineering when values need tweaked, re-encoded, or corrected. "
   ]
  },
  {
   "cell_type": "code",
   "execution_count": null,
   "metadata": {
    "scrolled": true
   },
   "outputs": [],
   "source": [
    "family = pd.read_csv(path + 'family_heights.csv')\n",
    "family.head(3)"
   ]
  },
  {
   "cell_type": "markdown",
   "metadata": {},
   "source": [
    "### Replace some values in a column"
   ]
  },
  {
   "cell_type": "markdown",
   "metadata": {},
   "source": [
    "To change values in a column, we pass a dictionary to our method `.replace()` with `key:value` pairs corresponding to our old values on the left and new values on the right. "
   ]
  },
  {
   "cell_type": "code",
   "execution_count": null,
   "metadata": {},
   "outputs": [],
   "source": [
    "# Replace values in a column\n",
    "family['sex'] = family['gender'].replace({'male': 0, 'female': 1}) # {old:new, old2:new2}\n",
    "family.head(5)"
   ]
  },
  {
   "cell_type": "markdown",
   "metadata": {},
   "source": [
    "### <font color='red'>'One hot encoding'</font> - changes category column into <font color='blue'>several 0/1 (yes/no) columns</font>, one column per unique category"
   ]
  },
  {
   "cell_type": "markdown",
   "metadata": {},
   "source": [
    "Categorical variables (factors) can be both **ordinal**, meaning they have quantitative meaning *e.g. tax bracket*, and **nominal**, meaning they have no natural order or quantitative meaning *e.g. eye color*. **One hot encoding** is the process of turning a single nominal categorical variable into multiple binary (1/0) variables. This format is often more tractable in statistical models. "
   ]
  },
  {
   "cell_type": "code",
   "execution_count": null,
   "metadata": {},
   "outputs": [],
   "source": [
    "# Change column to \"One Hot Encoding\" using get_dummies\n",
    "\n",
    "# In general, with n unique values, with get_dummies you will get n columns, all 0 except for rows\n",
    "# that matche the column's category\n",
    "#\n",
    "sky_new = pd.get_dummies(sky_df, columns=['material'])\n",
    "sky_new.head(4)"
   ]
  },
  {
   "cell_type": "markdown",
   "metadata": {},
   "source": [
    "The 'material' column is now replaced with as many columns as unique values of material. Each value is either a 0, meaning not that material, or a 1, meaning yes that material. This process side-steps arbitrary ordering of our material variable - the factor levels initially corresponding to each variable were meaningless (*e.g.* concrete == 1, steel == 2, mix == 3) but still implied ordination. No such ordination is implied after one hot encoding. "
   ]
  },
  {
   "cell_type": "markdown",
   "metadata": {},
   "source": [
    "### Rename columns"
   ]
  },
  {
   "cell_type": "markdown",
   "metadata": {},
   "source": [
    "In the same way we rename values, we can also rename columns by using a dictionary with the `.rename()` method. \n",
    "\n",
    "Handy when you need to use `df.query()`. Query must have columns with names that work as python variable names"
   ]
  },
  {
   "cell_type": "code",
   "execution_count": null,
   "metadata": {},
   "outputs": [],
   "source": [
    "my_sky_df = sky_df.rename(columns={'name':'building', 'completed': 'year_built', })\n",
    "my_sky_df.head()"
   ]
  },
  {
   "cell_type": "markdown",
   "metadata": {},
   "source": [
    "# 5) Split data into Train and Test subsets\n",
    "<a id='Section5'></a>"
   ]
  },
  {
   "cell_type": "markdown",
   "metadata": {},
   "source": [
    "We often need to split our data into subsets, one for training some model and the other for testing the quality of our model. The following is a demonstration of one way to do this. "
   ]
  },
  {
   "cell_type": "code",
   "execution_count": null,
   "metadata": {},
   "outputs": [],
   "source": [
    "wine = pd.read_csv(path + 'wine.csv')\n",
    "wine.info()"
   ]
  },
  {
   "cell_type": "markdown",
   "metadata": {},
   "source": [
    "## To split into 89, 89 Train, Test, start with shuffle of all data"
   ]
  },
  {
   "cell_type": "code",
   "execution_count": null,
   "metadata": {},
   "outputs": [],
   "source": [
    "# random_state= some number lets you rerun and get the same random data\n",
    "#               not required, but handy for testing\n",
    "shuffle_wine = wine.sample(frac=1.0, random_state=311)"
   ]
  },
  {
   "cell_type": "code",
   "execution_count": null,
   "metadata": {},
   "outputs": [],
   "source": [
    "wine_train = shuffle_wine[0:89] # 1st 89 rows\n",
    "wine_test = shuffle_wine[89:]   # remaining rows\n",
    "wine_train.head(8)"
   ]
  },
  {
   "cell_type": "code",
   "execution_count": null,
   "metadata": {
    "scrolled": true
   },
   "outputs": [],
   "source": [
    "train_Class = wine_train['Class']\n",
    "train_Class.head(5)"
   ]
  },
  {
   "cell_type": "code",
   "execution_count": null,
   "metadata": {
    "scrolled": true
   },
   "outputs": [],
   "source": [
    "train_attributes = wine_train.drop(columns=['Class'])\n",
    "train_attributes.head(5)"
   ]
  },
  {
   "cell_type": "code",
   "execution_count": null,
   "metadata": {},
   "outputs": [],
   "source": [
    "test_Actual_Class = wine_test['Class']\n",
    "test_Actual_Class.head(5)"
   ]
  },
  {
   "cell_type": "code",
   "execution_count": null,
   "metadata": {},
   "outputs": [],
   "source": [
    "test_attributes = wine_test.drop(columns=['Class'])\n",
    "test_attributes.head(5)"
   ]
  },
  {
   "cell_type": "markdown",
   "metadata": {},
   "source": [
    "# Quick reference \n",
    "<a id='Section6'></a>"
   ]
  },
  {
   "cell_type": "code",
   "execution_count": null,
   "metadata": {},
   "outputs": [],
   "source": [
    "pandas handles tables of data; it calls a table a <font color='blue'>__DataFrame__</font> or df\n",
    "\n",
    "```python \n",
    "import pandas as pd  \n",
    "import matplotlib.pyplot as plt\n",
    "\n",
    "# Read a csv file\n",
    "my_df = pd.read_csv(path + 'my_file.csv') # instead of Table.read_table\n",
    "\n",
    "my_df.head(6) # show 1st 6 rows of my_df data frame\n",
    "my_df.tail(5) # show last 5 rows of my_df data frame\n",
    "\n",
    "my_df.shape      # Shows number of rows, number of columns in your data frame\n",
    "my_df.info()     # Shows each column name, number of non-empty items, type of column (int, float, object)\n",
    "my_df.describe() # Shows count, mean, std, min, 25th percentile, 50th, 75th, max for each numeric column\n",
    "\n",
    "# Rename some columns\n",
    "my_df.rename(columns={'old col 1':'new_col1', 'another old': 'another_new', })\n",
    "\n",
    "# variations on display of DataFrame rows\n",
    "sky_sample_1_percent = sky_df.sample(frac=0.01) # random sample of 1% of rows in the data frame\n",
    "sky_sample_6 = sky_df.sample(n=6) # random sample of 6 rows in the data frame\n",
    "sky_sample_7 = sky_df.sample(n=7, random_state=311)   # random sample of 7, repeatable results\n",
    "\n",
    "# .iloc[]  -- use index numbers for rows, columns to work with\n",
    "sky_by_index = sky_df.iloc[3:6, :] # Rows 3, 4, 5 not 6, all columns -- like datascience .take()\n",
    "\n",
    "my_df['a column'].unique() # Shows list of the unique value in this column\n",
    "\n",
    "columns_list = ['name', 'age', 'major'] # Put columns in the order you want in your df\n",
    "my_subset = my_df[columns_list] # Gets df with just those 3 columns  (like .select)\n",
    "\n",
    "# sort_values\n",
    "my_sorted_df = my_df.sort_values('major') # Sort by major, A to Z order\n",
    "my_gpa_sort = sort_values('gpa', ascending=False) # biggest gpa numbers first\n",
    "\n",
    "my_df2 = sort_values(['major', 'name']) # by major, within major by name\n",
    "my_df3 = sort_values(['major', 'gpa'], ascending=[True, False]) # by major then by biggest gpa firs\n",
    "\n",
    "# Convert df column to a numpy array  -- like datascience .column()\n",
    "my_array = df['gpa'].to_numpy()\n",
    "\n",
    "# Get selected rows from pandas data frame like datascience's .where( )\n",
    "\n",
    "select_1979 = sky_df['completed'] == 1979\n",
    "sky_1979_df = sky_df[select_1979] # Only put True rows into sky_1979_df \n",
    "\n",
    "select_before_1979 = sky_df['completed'] < 1979 \n",
    "sky_before_1979_df = sky_df[select_before_1979] # Only put True rows into sky_before_1979_df \n",
    "\n",
    "# Get all the items that are in a list using .isin(list of values)\n",
    "select_dates = sky_df['completed'].isin([1899, 1904, 1921]) # select dates is array of True / False values\n",
    "sky_selected_years = sky_df[select_dates]\n",
    "\n",
    "# Show buildings (built in 1924) & (taller than 150 meters) # Needs ( ) & ( )\n",
    "select_1924_and_tall = (sky_df['completed'] == 1924) & (sky_df['height'] > 150.0)\n",
    "sky_old_tall = sky_df[select_1924_and_tall]\n",
    "\n",
    "# sky_old_tall = sky_df[select_1924 & select_tall] # another way\n",
    "select_1924 = sky_df['completed'] == 1924\n",
    "select_tall  = sky_df['height'] > 150.0\n",
    "sky_old_tall3 = sky_df[select_1924 & select_tall]\n",
    "\n",
    "# list of items from 1 column\n",
    "select_cities = sky_df['city'].isin(['Atlanta', 'Sacramento', 'San Diego']) # array of True / False\n",
    "sky_selected_cities = sky_df[select_cities]\n",
    "\n",
    "# Either (completed in 1904 ) | (city is Sacramento)  # | means 'or'\n",
    "select_city_or_date = (sky_df['city'] == 'Sacramento') | (sky_df['completed'] == 1904) \n",
    "sky_city_or_date = sky_df[select_city_or_date]\n",
    "\n",
    "# df.query('city == \"Chicago\"') # works only when column names will be OK python variable names\n",
    "sky_1980 = sky_df.query('completed == 1980')\n",
    "\n",
    "# Create a new column\n",
    "sky_df['age'] = 2021 - sky_df['completed'] # Stores result in named column on left of =\n",
    "\n",
    "# Group by city, get counts\n",
    "sky_by_city = sky_df.groupby('city')['city'].count()\n",
    "\n",
    "# Group by city then within each city group, apply the max function to just the height column\n",
    "sky_by_city = sky_df.groupby('city')['height'].max()\n",
    "\n",
    "# Group by city and material, find tallest within each group\n",
    "sky_by_city_material = sky_copy.groupby(['city', 'material'])['height'].max()\n",
    "\n",
    "# pivot_table # The full URL https://pbpython.com/pandas-pivot-table-explained.html\n",
    "df.pivot_table(index=[\"Manager\",\"Rep\"])\n",
    "\n",
    "# merge -- like datascience join\n",
    "\n",
    "# 3 varieties\n",
    "# 1) inner merge (result must appear in both left and right data frames\n",
    "nba_all = pd.merge(nba, nba_salary,                     # left is nba, right is nba_salary\n",
    "                   how='inner',                         # must get data from both left and right data frames\n",
    "                   left_on='Name',right_on='PLAYER')    # join on Name from left, PLAYER from right\n",
    "\n",
    "# 2) left merge (result keeps every item in left data frame, matches with right when possible\n",
    "#    Non-matches show as NaN (\"Not a Number\" -- missing value)\n",
    "nba_players = pd.merge(nba, nba_salary,                 # left is nba, right is nba_salary\n",
    "                   how='left',                          # gets all left data rows\n",
    "                   left_on='Name',right_on='PLAYER')    # join on Name from left, PLAYER from right\n",
    "\n",
    "# 3) right merge (result keeps every item in right data frame, matches with left when possible\n",
    "#    Non-matches show as NaN (\"Not a Number\" -- missing value)\n",
    "nba_salaries_plus = pd.merge(nba, nba_salary,            # left is nba, right is nba_salary\n",
    "                    how='right',                         # gets all right data rows\n",
    "                    left_on='Name',right_on='PLAYER')    # join on Name from left, PLAYER from right\n",
    "\n",
    "# .dropna( )\n",
    "nba_sal_plus = nba_salaries_plus.dropna( )  # .dropna() drops all rows with any NaN value\n",
    "\n",
    "# Change values in your DataFrame\n",
    "# Replace values in a column\n",
    "family['gender'] = family['gender'].replace({'male': 0, 'female': 1}) # {old:new, old2:new2}\n",
    "\n",
    "# 'One hot encoding' - changes category column into a series of yes/no columns\n",
    "sky_new = pd.get_dummies(sky_df, columns=['material'])\n",
    "# Material concrete, steel, \n",
    "# Kills material column, creates material_concrete, material_steel, \n",
    "\n",
    "# Options when reading .csv file\n",
    "\n",
    "# keyword options with read_csv:\n",
    "#  sep='\\t' lets you read tab-separated data (or provide some other separator value)\n",
    "#  header=None lets you read data without column names\n",
    "#  names=['Who', 'What', 'Where'] provide your own column names\n",
    "#  skiprows=3  Skips the first 3 rows (when you have notes and copyright before the real data)\n",
    "\n",
    "# Shuffle data, then break into train, test data frames\n",
    "shuffle_wine = wine.sample(frac=1.0, random_state=311) # Shuffle all data before a split\n",
    "wine_train = shuffle_wine[0:89] # 1st 89 rows\n",
    "wine_test = shuffle_wine[89:]   # remaining rows\n",
    "\n",
    "```"
   ]
  }
 ],
 "metadata": {
  "kernelspec": {
   "display_name": "Python 3 (ipykernel)",
   "language": "python",
   "name": "python3"
  },
  "language_info": {
   "codemirror_mode": {
    "name": "ipython",
    "version": 3
   },
   "file_extension": ".py",
   "mimetype": "text/x-python",
   "name": "python",
   "nbconvert_exporter": "python",
   "pygments_lexer": "ipython3",
   "version": "3.10.11"
  }
 },
 "nbformat": 4,
 "nbformat_minor": 4
}
